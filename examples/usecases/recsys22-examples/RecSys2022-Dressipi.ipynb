{
 "cells": [
  {
   "cell_type": "code",
   "execution_count": null,
   "id": "2184feba",
   "metadata": {},
   "outputs": [],
   "source": [
    "# Copyright 2021 NVIDIA Corporation. All Rights Reserved.\n",
    "#\n",
    "# Licensed under the Apache License, Version 2.0 (the \"License\");\n",
    "# you may not use this file except in compliance with the License.\n",
    "# You may obtain a copy of the License at\n",
    "#\n",
    "#     http://www.apache.org/licenses/LICENSE-2.0\n",
    "#\n",
    "# Unless required by applicable law or agreed to in writing, software\n",
    "# distributed under the License is distributed on an \"AS IS\" BASIS,\n",
    "# WITHOUT WARRANTIES OR CONDITIONS OF ANY KIND, either express or implied.\n",
    "# See the License for the specific language governing permissions and\n",
    "# limitations under the License.\n",
    "# =============================================================================="
   ]
  },
  {
   "cell_type": "markdown",
   "id": "255743b4",
   "metadata": {},
   "source": [
    "<img src=\"http://developer.download.nvidia.com/compute/machine-learning/frameworks/nvidia_logo.png\" style=\"width: 90px; float: right;\">\n",
    "\n",
    "# Recsys2022 Challenge \n",
    "\n",
    "NVIDIA-Merlin team participated in [Recsys2022 challenge](http://www.recsyschallenge.com/2022/index.html) and secured 3rd position. This notebook contains the various techniques used in the solution.\n",
    "\n",
    "### Learning Objective\n",
    "In this notebook, we will learn the importance of the concepts that improved the results of the competition significantly.\n",
    "\n",
    "- ##### Label smoothing\n",
    "     When the probabilities predicted by a Classification model are higher than its accuracy we say the model is overconfident. It can be prevented by using Label smoothing. This technique basically, transforms One-hot encoded labels into smoothed labels. \n",
    "$$  \\begin{array}{l}\n",
    "y_{l} \\ =\\ ( 1\\ -\\ \\alpha \\ ) \\ *\\ y_{o} \\ +\\ ( \\alpha \\ /\\ L)\\\\\n",
    "\\alpha :\\ Label\\ smoothing\\\\\n",
    "L:\\ Total\\ number\\ of\\ label\\ classes\\\\\n",
    "y_{o} :\\ One-hot\\ encoded\\ label\\ vector\n",
    "\\end{array}\n",
    "$$\n",
    "When α is 0, we have the original one-hot encoded labels, and as α increases, we move towards smoothed labels. Read [this](https://arxiv.org/abs/1906.02629) paper to learn more about it.\n",
    "\n",
    "\n",
    "- ##### Temperature Scaling\n",
    "    Similar to Label Smoothing, Temperature Scaling is done to reduce the overconfidence of a model. In this, we divide the logits (inputs to the softmax function) by a scalar parameter (T) . For more information on Temperature Scaling read [this](https://arxiv.org/pdf/1706.04599.pdf) paper.\n",
    "$$ softmax\\ =\\ \\frac{e\\ ^{( z_{i} \\ /\\ \\ T)}}{\\sum _{j} \\ e^{( z_{j} \\ /\\ T)} \\ } $$\n",
    "\n",
    "\n",
    "- ##### Weight Tying\n",
    "In this technique, we share the Embedding layer's weights which is used to convert the input to embeddings, as the softmax weights,  to convert hidden layer output to softmax layer output. This drastically reduces the number of parameters and allows the model to train better. For more information read [this](https://arxiv.org/pdf/1608.05859v3.pdf) paper."
   ]
  },
  {
   "cell_type": "code",
   "execution_count": 1,
   "id": "aa4318c2",
   "metadata": {},
   "outputs": [],
   "source": [
    "import os\n",
    "import cudf\n",
    "import dask_cudf\n",
    "import pandas as pd \n",
    "\n",
    "import nvtabular as nvt\n",
    "from merlin.dag import ColumnSelector\n",
    "from merlin.io import Dataset\n",
    "from merlin.schema import Schema, Tags\n",
    "from nvtabular.ops import (\n",
    "    AddMetadata,\n",
    ")\n",
    "from merlin.schema.tags import Tags\n",
    "from utils import get_drepessi_recsys2022_dataset\n",
    "\n",
    "DATA_FOLDER = 'dressipi'\n",
    "OUTPUT_FOLDER = 'dressipi_processed'\n",
    "DATETIME_CONVERTION = 'ms'"
   ]
  },
  {
   "cell_type": "markdown",
   "id": "0bc9581e",
   "metadata": {},
   "source": [
    "## Dressipi\n",
    "The [Dressipi](http://www.recsyschallenge.com/2022/dataset.html) dataset contains 1.1 M online retail sessions that resulted in a purchase. It provides details about items that were viewed in a session, the item purchased at the end of the session and numerous features of those items. The task of this competition was, given a sequence of items predict which item will be purchased at the end of a session.\n",
    "\n",
    "\n",
    "<img src=\"images/dressipi.jpeg\" alt=\"dressipi_dataset\" style=\"width: 400px; float: center;\">  \n"
   ]
  },
  {
   "cell_type": "code",
   "execution_count": 2,
   "id": "d9d506fc",
   "metadata": {},
   "outputs": [],
   "source": [
    "train, valid, item_features, sessions = get_drepessi_recsys2022_dataset(DATA_FOLDER)"
   ]
  },
  {
   "cell_type": "markdown",
   "id": "5a70f2f5",
   "metadata": {},
   "source": [
    "## Feature Engineering with NVTabular"
   ]
  },
  {
   "cell_type": "markdown",
   "id": "edeb8aa6",
   "metadata": {},
   "source": [
    "### Categorify"
   ]
  },
  {
   "cell_type": "code",
   "execution_count": 3,
   "id": "2a9662d5",
   "metadata": {},
   "outputs": [
    {
     "name": "stderr",
     "output_type": "stream",
     "text": [
      "/usr/local/lib/python3.8/dist-packages/cudf/core/dataframe.py:1292: UserWarning: The deep parameter is ignored and is only included for pandas compatibility.\n",
      "  warnings.warn(\n"
     ]
    }
   ],
   "source": [
    "item_features_names = item_features.columns[1:].tolist()\n",
    "cat_features = ['session_id', 'item_id'] + item_features_names >> nvt.ops.Categorify()\n",
    "# all_data = dask_cudf.concat([Dataset(sessions).to_ddf()])\n",
    "all_data = Dataset(sessions).to_ddf()\n",
    "\n",
    "features = ['timestamp','date'] + cat_features\n",
    "dataset = Dataset(all_data)\n",
    "workflow0 = nvt.Workflow(features)\n",
    "workflow0.fit(dataset)\n",
    "\n",
    "# transform data\n",
    "train_0 = workflow0.transform(Dataset(train))\n",
    "valid_0 = workflow0.transform(Dataset(valid))"
   ]
  },
  {
   "cell_type": "markdown",
   "id": "0458a226",
   "metadata": {},
   "source": [
    "### GroupBy"
   ]
  },
  {
   "cell_type": "code",
   "execution_count": 4,
   "id": "13b8463d",
   "metadata": {},
   "outputs": [
    {
     "name": "stdout",
     "output_type": "stream",
     "text": [
      "CPU times: user 1.42 s, sys: 1.74 s, total: 3.17 s\n",
      "Wall time: 4.7 s\n"
     ]
    }
   ],
   "source": [
    "%%time\n",
    "features = train_0.head().columns.tolist()\n",
    "\n",
    "# Define Groupby Operator\n",
    "to_aggregate = {\n",
    "    'date': [\"first\", \"last\"],\n",
    "    'item_id': [\"list\", \"first\", \"last\"],\n",
    "    'timestamp': [\"list\"]\n",
    "}\n",
    "for name in item_features_names: \n",
    "    to_aggregate[name] = ['list']\n",
    "    \n",
    "groupby_features = features >> nvt.ops.Groupby(\n",
    "    groupby_cols=[\"session_id\"], \n",
    "    sort_cols=[\"date\"],\n",
    "    aggs= to_aggregate,\n",
    "    name_sep=\"_\")\n",
    "\n",
    "# Add tags needed for the t4rec models definition\n",
    "item_list = groupby_features['item_id_list'] >> nvt.ops.AddMetadata(tags=[Tags.SEQUENCE, Tags.ITEM, Tags.ITEM_ID, Tags.LIST])\n",
    "item_first_last = groupby_features['item_id_last', 'item_id_first'] >> nvt.ops.AddMetadata(tags=[Tags.ITEM, Tags.ITEM_ID])\n",
    "feature_list = groupby_features[[name+'_list' for name in item_features_names]]>> nvt.ops.AddMetadata(tags=[Tags.SEQUENCE, Tags.ITEM, Tags.LIST])\n",
    "other_features = groupby_features['session_id', 'date_first', 'date_last','timestamp_list']\n",
    "\n",
    "workflow1 = nvt.Workflow(item_list + item_first_last + feature_list + other_features)\n",
    "workflow1.fit(train_0)\n",
    "\n",
    "# transform data\n",
    "train_1 = workflow1.transform(train_0)\n",
    "valid_1 = workflow1.transform(valid_0)"
   ]
  },
  {
   "cell_type": "markdown",
   "id": "8f1fe71c",
   "metadata": {},
   "source": [
    "### Truncate and Padding for a Maximum Sequence Length"
   ]
  },
  {
   "cell_type": "code",
   "execution_count": 5,
   "id": "5688719a",
   "metadata": {},
   "outputs": [],
   "source": [
    "SESSIONS_MAX_LENGTH = 20\n",
    "list_cols = [col for col in train_1.head().columns if 'list' in col and 'date' not in col]\n",
    "truncated_fatures = list_cols >> nvt.ops.ListSlice(-SESSIONS_MAX_LENGTH, pad=True) >> nvt.ops.Rename(postfix = '_seq')\n",
    "final_features = [\n",
    "    'session_id', 'date_first', 'date_last', 'item_id_list', 'item_id_first', \n",
    "]"
   ]
  },
  {
   "cell_type": "markdown",
   "id": "75c5f718",
   "metadata": {},
   "source": [
    "### Add TARGET tag in label column"
   ]
  },
  {
   "cell_type": "code",
   "execution_count": 6,
   "id": "f6497ae6",
   "metadata": {},
   "outputs": [],
   "source": [
    "LABEL_COLUMNS = ['item_id_last']\n",
    "label_features = LABEL_COLUMNS >> AddMetadata(tags=[str(Tags.BINARY_CLASSIFICATION), \"target\"])"
   ]
  },
  {
   "cell_type": "code",
   "execution_count": 7,
   "id": "c0d220cb",
   "metadata": {},
   "outputs": [],
   "source": [
    "workflow2 = nvt.Workflow(final_features + truncated_fatures+label_features)\n",
    "workflow2.fit(train_1)\n",
    "\n",
    "# transform data\n",
    "train_2 = workflow2.transform(train_1)\n",
    "valid_2 = workflow2.transform(valid_1)"
   ]
  },
  {
   "cell_type": "markdown",
   "id": "d318a07d",
   "metadata": {},
   "source": [
    "### Save processed data to Parquet files"
   ]
  },
  {
   "cell_type": "code",
   "execution_count": 8,
   "id": "07d7f5b3",
   "metadata": {},
   "outputs": [
    {
     "name": "stdout",
     "output_type": "stream",
     "text": [
      "CPU times: user 21.3 s, sys: 22.1 s, total: 43.4 s\n",
      "Wall time: 1min 11s\n"
     ]
    }
   ],
   "source": [
    "%%time\n",
    "train_ds = Dataset(train_2.to_ddf().sort_values('date_last'), schema=train_2.schema)\n",
    "valid_ds = Dataset(valid_2.to_ddf().sort_values('date_last'), schema=valid_2.schema)\n",
    "\n",
    "train_ds.to_parquet(os.path.join(OUTPUT_FOLDER, \"train/\"), output_files=10)\n",
    "valid_ds.to_parquet(os.path.join(OUTPUT_FOLDER, \"valid/\"), output_files=10)"
   ]
  },
  {
   "cell_type": "markdown",
   "id": "0eb10c15",
   "metadata": {},
   "source": [
    "## Training - MLP\n",
    "\n",
    "A sequential-MLP model with average of the sequence as final representation"
   ]
  },
  {
   "cell_type": "code",
   "execution_count": 1,
   "id": "30b028a9",
   "metadata": {},
   "outputs": [],
   "source": [
    "import os\n",
    "os.environ[\"CUDA_VISIBLE_DEVICES\"]=\"1\""
   ]
  },
  {
   "cell_type": "code",
   "execution_count": 2,
   "id": "0bfc73b5",
   "metadata": {},
   "outputs": [
    {
     "name": "stderr",
     "output_type": "stream",
     "text": [
      "2022-07-14 04:54:53.194106: I tensorflow/core/platform/cpu_feature_guard.cc:152] This TensorFlow binary is optimized with oneAPI Deep Neural Network Library (oneDNN) to use the following CPU instructions in performance-critical operations:  SSE3 SSE4.1 SSE4.2 AVX\n",
      "To enable them in other operations, rebuild TensorFlow with the appropriate compiler flags.\n",
      "2022-07-14 04:54:55.175395: I tensorflow/core/common_runtime/gpu/gpu_device.cc:1525] Created device /job:localhost/replica:0/task:0/device:GPU:0 with 16255 MB memory:  -> device: 0, name: Tesla V100-SXM2-32GB-LS, pci bus id: 0000:07:00.0, compute capability: 7.0\n"
     ]
    }
   ],
   "source": [
    "import os\n",
    "import cudf\n",
    "import pandas as pd \n",
    "import tensorflow as tf\n",
    "from merlin.io import Dataset\n",
    "from merlin.schema import Tags\n",
    "import matplotlib.pyplot as plt\n",
    "from tensorflow.keras import regularizers\n",
    "from merlin.models.tf.dataset import BatchedDataset\n",
    "from merlin.models.tf.utils.tf_utils import extract_topk\n",
    "import numpy as np\n",
    "import merlin.models.tf as mm\n",
    "from merlin.models.tf import InputBlock\n",
    "from merlin.models.tf.models.base import Model\n",
    "from merlin.models.tf.core.aggregation import SequenceAggregation, SequenceAggregator\n",
    "from merlin.models.tf.core.transformations import (\n",
    "    ItemsPredictionWeightTying,\n",
    "    L2Norm,\n",
    "    LogitsTemperatureScaler,\n",
    ")\n",
    "\n",
    "DATA_FOLDER = 'dressipi'\n",
    "DATA_PROCESSED_FOLDER = 'dressipi_processed'"
   ]
  },
  {
   "cell_type": "code",
   "execution_count": 3,
   "id": "34b1b5d6",
   "metadata": {},
   "outputs": [
    {
     "name": "stderr",
     "output_type": "stream",
     "text": [
      "/usr/local/lib/python3.8/dist-packages/cudf/core/dataframe.py:1292: UserWarning: The deep parameter is ignored and is only included for pandas compatibility.\n",
      "  warnings.warn(\n"
     ]
    }
   ],
   "source": [
    "train = Dataset(os.path.join(DATA_PROCESSED_FOLDER, 'train/*.parquet'),shuffle=False)\n",
    "valid = Dataset(os.path.join(DATA_PROCESSED_FOLDER, 'valid/*.parquet'), shuffle=False)\n",
    "\n",
    "purchases = pd.read_csv(os.path.join(DATA_FOLDER, \"train_purchases.csv\"))\n",
    "item_map = pd.read_parquet(\n",
    "    os.path.join(\"categories\", \"unique.item_id.parquet\"))['item_id'].to_dict()\n",
    "session_map = pd.read_parquet(\n",
    "    os.path.join(\"categories\", \"unique.session_id.parquet\"))['session_id'].to_dict()"
   ]
  },
  {
   "cell_type": "code",
   "execution_count": 4,
   "id": "62226d9f",
   "metadata": {},
   "outputs": [
    {
     "data": {
      "text/html": [
       "<div>\n",
       "<style scoped>\n",
       "    .dataframe tbody tr th:only-of-type {\n",
       "        vertical-align: middle;\n",
       "    }\n",
       "\n",
       "    .dataframe tbody tr th {\n",
       "        vertical-align: top;\n",
       "    }\n",
       "\n",
       "    .dataframe thead th {\n",
       "        text-align: right;\n",
       "    }\n",
       "</style>\n",
       "<table border=\"1\" class=\"dataframe\">\n",
       "  <thead>\n",
       "    <tr style=\"text-align: right;\">\n",
       "      <th></th>\n",
       "      <th>name</th>\n",
       "      <th>tags</th>\n",
       "      <th>dtype</th>\n",
       "      <th>is_list</th>\n",
       "      <th>is_ragged</th>\n",
       "      <th>properties.num_buckets</th>\n",
       "      <th>properties.freq_threshold</th>\n",
       "      <th>properties.max_size</th>\n",
       "      <th>properties.start_index</th>\n",
       "      <th>properties.cat_path</th>\n",
       "      <th>properties.embedding_sizes.cardinality</th>\n",
       "      <th>properties.embedding_sizes.dimension</th>\n",
       "      <th>properties.domain.min</th>\n",
       "      <th>properties.domain.max</th>\n",
       "      <th>properties.domain.name</th>\n",
       "    </tr>\n",
       "  </thead>\n",
       "  <tbody>\n",
       "    <tr>\n",
       "      <th>0</th>\n",
       "      <td>item_id_list_seq</td>\n",
       "      <td>(Tags.CATEGORICAL, Tags.SEQUENCE, Tags.ITEM_ID...</td>\n",
       "      <td>int64</td>\n",
       "      <td>True</td>\n",
       "      <td>False</td>\n",
       "      <td>None</td>\n",
       "      <td>0.0</td>\n",
       "      <td>0.0</td>\n",
       "      <td>0.0</td>\n",
       "      <td>.//categories/unique.item_id.parquet</td>\n",
       "      <td>23497.0</td>\n",
       "      <td>449.0</td>\n",
       "      <td>0</td>\n",
       "      <td>23497</td>\n",
       "      <td>item_id</td>\n",
       "    </tr>\n",
       "    <tr>\n",
       "      <th>1</th>\n",
       "      <td>item_id_last</td>\n",
       "      <td>(Tags.CATEGORICAL, Tags.TARGET, Tags.BINARY_CL...</td>\n",
       "      <td>int64</td>\n",
       "      <td>False</td>\n",
       "      <td>False</td>\n",
       "      <td>None</td>\n",
       "      <td>0.0</td>\n",
       "      <td>0.0</td>\n",
       "      <td>0.0</td>\n",
       "      <td>.//categories/unique.item_id.parquet</td>\n",
       "      <td>23497.0</td>\n",
       "      <td>449.0</td>\n",
       "      <td>0</td>\n",
       "      <td>23497</td>\n",
       "      <td>item_id</td>\n",
       "    </tr>\n",
       "  </tbody>\n",
       "</table>\n",
       "</div>"
      ],
      "text/plain": [
       "[{'name': 'item_id_list_seq', 'tags': {<Tags.CATEGORICAL: 'categorical'>, <Tags.SEQUENCE: 'sequence'>, <Tags.ITEM_ID: 'item_id'>, <Tags.ITEM: 'item'>, <Tags.LIST: 'list'>}, 'properties': {'num_buckets': None, 'freq_threshold': 0.0, 'max_size': 0.0, 'start_index': 0.0, 'cat_path': './/categories/unique.item_id.parquet', 'embedding_sizes': {'cardinality': 23497.0, 'dimension': 449.0}, 'domain': {'min': 0, 'max': 23497, 'name': 'item_id'}}, 'dtype': dtype('int64'), 'is_list': True, 'is_ragged': False}, {'name': 'item_id_last', 'tags': {<Tags.CATEGORICAL: 'categorical'>, <Tags.TARGET: 'target'>, 'Tags.BINARY_CLASSIFICATION', <Tags.ITEM_ID: 'item_id'>, <Tags.ITEM: 'item'>}, 'properties': {'num_buckets': None, 'freq_threshold': 0.0, 'max_size': 0.0, 'start_index': 0.0, 'cat_path': './/categories/unique.item_id.parquet', 'embedding_sizes': {'cardinality': 23497.0, 'dimension': 449.0}, 'domain': {'min': 0, 'max': 23497, 'name': 'item_id'}}, 'dtype': dtype('int64'), 'is_list': False, 'is_ragged': False}]"
      ]
     },
     "execution_count": 4,
     "metadata": {},
     "output_type": "execute_result"
    }
   ],
   "source": [
    "schema_model = train.schema.select_by_name(['item_id_list_seq', 'item_id_last'])\n",
    "schema_model"
   ]
  },
  {
   "cell_type": "code",
   "execution_count": 5,
   "id": "09b2437b",
   "metadata": {},
   "outputs": [],
   "source": [
    "import datetime\n",
    "\n",
    "tmp = train.compute()\n",
    "start_month_train = tmp[tmp['date_last'] <= datetime.datetime(2021, 4, 1)]\n",
    "last_month_train = tmp[tmp['date_first'] >= datetime.datetime(2021, 4, 1)]\n",
    "start_month_train =  Dataset(start_month_train, schema=schema_model, shuffle=True)\n",
    "last_month_train =  Dataset(last_month_train, schema=schema_model, shuffle=True)"
   ]
  },
  {
   "cell_type": "code",
   "execution_count": 6,
   "id": "2bd80513",
   "metadata": {},
   "outputs": [
    {
     "data": {
      "text/plain": [
       "((920830, 30), (848637, 30), (72193, 30))"
      ]
     },
     "execution_count": 6,
     "metadata": {},
     "output_type": "execute_result"
    }
   ],
   "source": [
    "tmp.shape,start_month_train.compute().shape,last_month_train.compute().shape"
   ]
  },
  {
   "cell_type": "code",
   "execution_count": 7,
   "id": "fe046bfd",
   "metadata": {},
   "outputs": [],
   "source": [
    "EPOCHS = 2\n",
    "BATCH_SIZE = 128"
   ]
  },
  {
   "cell_type": "markdown",
   "id": "542a103d",
   "metadata": {},
   "source": [
    "### Model\n",
    "InputBlock which takes sequential features, concatenate them and return the sequence of interaction embeddings"
   ]
  },
  {
   "cell_type": "code",
   "execution_count": 8,
   "id": "41b117f5",
   "metadata": {},
   "outputs": [],
   "source": [
    "input_block = InputBlock(\n",
    "        schema_model,\n",
    "        aggregation='concat',\n",
    "        seq=True,\n",
    "        max_seq_length=20,\n",
    "        embedding_options=mm.EmbeddingOptions(embedding_dim_default=128),\n",
    "        split_sparse=True,\n",
    ")"
   ]
  },
  {
   "cell_type": "markdown",
   "id": "3572b4b4",
   "metadata": {},
   "source": [
    "MLPBlock to get the sequence of hidden representation"
   ]
  },
  {
   "cell_type": "code",
   "execution_count": 9,
   "id": "3b96ea37",
   "metadata": {},
   "outputs": [],
   "source": [
    "mlp_block = mm.MLPBlock(\n",
    "                [64, 128],\n",
    "                activation='relu',\n",
    "                no_activation_last_layer=True,\n",
    "                dropout=0.01,\n",
    "            )"
   ]
  },
  {
   "cell_type": "markdown",
   "id": "3b81b013",
   "metadata": {},
   "source": [
    "Multi-Classiffication Prediction head which has\n",
    "- Layer Normalization\n",
    "- Weight Tying\n",
    "- Labels as One-hot encoded vectors, used for label smoothing \n",
    "- Temperature Scaling to reduce the overconfidence of the model"
   ]
  },
  {
   "cell_type": "code",
   "execution_count": 10,
   "id": "0f36606d",
   "metadata": {},
   "outputs": [],
   "source": [
    "prediction_call = L2Norm().connect(\n",
    "    ItemsPredictionWeightTying(schema_model), \n",
    "    mm.LabelToOneHot(), \n",
    "    LogitsTemperatureScaler(temperature=2)\n",
    ")\n",
    "\n",
    "prediction_task = mm.MultiClassClassificationTask(\n",
    "    target_name=\"item_id_last\",\n",
    "    pre=prediction_call,\n",
    ")"
   ]
  },
  {
   "cell_type": "markdown",
   "id": "c9e85fe2",
   "metadata": {},
   "source": [
    "Now, we connect all the blocks togther to build a model"
   ]
  },
  {
   "cell_type": "code",
   "execution_count": 11,
   "id": "ff5e8798",
   "metadata": {},
   "outputs": [
    {
     "name": "stderr",
     "output_type": "stream",
     "text": [
      "2022-07-14 04:55:02.477037: W tensorflow/python/util/util.cc:368] Sets are not currently considered sequences, but this may change in the future, so consider avoiding using them.\n"
     ]
    }
   ],
   "source": [
    "model_mlp = Model(input_block, mlp_block, SequenceAggregator(SequenceAggregation.MEAN), prediction_task)\n",
    "\n",
    "optimizer = tf.keras.optimizers.Adam(\n",
    "    learning_rate=3e-1,\n",
    "    clipnorm=True\n",
    ")\n",
    "\n",
    "# model_mlp.compile(optimizer=optimizer, run_eagerly=False)\n",
    "model_mlp.compile(\n",
    "    optimizer=optimizer,\n",
    "    run_eagerly=True,\n",
    "    loss=tf.keras.losses.CategoricalCrossentropy(from_logits=True, label_smoothing=0.2),\n",
    "    metrics=mm.TopKMetricsAggregator.default_metrics(top_ks=[100])\n",
    ")"
   ]
  },
  {
   "cell_type": "markdown",
   "id": "ebae6ed1",
   "metadata": {},
   "source": [
    "### Model Training"
   ]
  },
  {
   "cell_type": "code",
   "execution_count": 12,
   "id": "9fd097fc",
   "metadata": {},
   "outputs": [
    {
     "name": "stdout",
     "output_type": "stream",
     "text": [
      "Epoch 1/2\n",
      "6630/6630 [==============================] - 430s 63ms/step - loss: 6.6747 - recall_at_100: 0.5320 - mrr_at_100: 0.2474 - ndcg_at_100: 0.3055 - map_at_100: 0.2474 - precision_at_100: 0.0053 - regularization_loss: 0.0000e+00 - val_loss: 6.9967 - val_recall_at_100: 0.6474 - val_mrr_at_100: 0.3363 - val_ndcg_at_100: 0.4019 - val_map_at_100: 0.3363 - val_precision_at_100: 0.0065 - val_regularization_loss: 0.0000e+00\n",
      "Epoch 2/2\n",
      "6630/6630 [==============================] - 419s 62ms/step - loss: 5.7599 - recall_at_100: 0.8505 - mrr_at_100: 0.4635 - ndcg_at_100: 0.5476 - map_at_100: 0.4635 - precision_at_100: 0.0085 - regularization_loss: 0.0000e+00 - val_loss: 6.8384 - val_recall_at_100: 0.6827 - val_mrr_at_100: 0.3590 - val_ndcg_at_100: 0.4280 - val_map_at_100: 0.3590 - val_precision_at_100: 0.0068 - val_regularization_loss: 0.0000e+00\n",
      "CPU times: user 15min 7s, sys: 23.2 s, total: 15min 30s\n",
      "Wall time: 14min 21s\n"
     ]
    }
   ],
   "source": [
    "%%time\n",
    "history = model_mlp.fit(start_month_train, validation_data=last_month_train, batch_size=BATCH_SIZE, epochs=EPOCHS)"
   ]
  },
  {
   "cell_type": "code",
   "execution_count": 13,
   "id": "1e95d6ff",
   "metadata": {},
   "outputs": [],
   "source": [
    "def compute_mrr(rec_list,target):\n",
    "    mrr = 0\n",
    "    for a,b in zip(rec_list,target):\n",
    "        rank = np.argmax(np.array(a)==b)\n",
    "        if rank != 0:\n",
    "            mrr += (1 / (1 + rank))\n",
    "    return mrr/(target.shape[0])"
   ]
  },
  {
   "cell_type": "code",
   "execution_count": 14,
   "id": "f3ae5770",
   "metadata": {},
   "outputs": [],
   "source": [
    "def model_evaluation(model):\n",
    "    valid = Dataset(\n",
    "    [DATA_PROCESSED_FOLDER+'/valid/*.parquet'], \n",
    "    part_mem_fraction=0.01, \n",
    "    shuffle=False)\n",
    "    x = BatchedDataset(\n",
    "        valid, \n",
    "        batch_size=256, \n",
    "        shuffle=False, \n",
    "    )\n",
    "    predictions = model.predict(x)\n",
    "\n",
    "    topk_predicted = []\n",
    "    for i in range(predictions.shape[0]):\n",
    "        _, topk_indices = tf.math.top_k(predictions[i, :], 100)\n",
    "        topk_predicted.append(topk_indices.numpy().reshape(1, 100))\n",
    "\n",
    "    top_predicted = np.concatenate(topk_predicted)\n",
    "\n",
    "    valid_data = valid.to_ddf().compute().to_pandas()\n",
    "    valid_data['session_id'] = valid_data.session_id.map(session_map)\n",
    "    valid_data = pd.merge(valid_data, purchases, on='session_id')[['session_id', 'item_id']]\n",
    "\n",
    "    valid_data['top100_predicted'] = top_predicted.tolist()\n",
    "    valid_data['top100_predicted']= valid_data['top100_predicted'].apply(lambda x: [item_map[i] for i in x])\n",
    "\n",
    "    return compute_mrr(valid_data['top100_predicted'], valid_data['item_id'])"
   ]
  },
  {
   "cell_type": "markdown",
   "id": "a149f108",
   "metadata": {},
   "source": [
    "### Model Evaluation"
   ]
  },
  {
   "cell_type": "code",
   "execution_count": 15,
   "id": "b90ad092",
   "metadata": {},
   "outputs": [
    {
     "name": "stderr",
     "output_type": "stream",
     "text": [
      "/usr/local/lib/python3.8/dist-packages/cudf/core/dataframe.py:1292: UserWarning: The deep parameter is ignored and is only included for pandas compatibility.\n",
      "  warnings.warn(\n",
      "/tmp/ipykernel_91629/1660147556.py:4: DeprecationWarning: elementwise comparison failed; this will raise an error in the future.\n",
      "  rank = np.argmax(np.array(a)==b)\n"
     ]
    },
    {
     "name": "stdout",
     "output_type": "stream",
     "text": [
      "CPU times: user 2min 12s, sys: 46.1 s, total: 2min 58s\n",
      "Wall time: 2min 26s\n"
     ]
    },
    {
     "data": {
      "text/plain": [
       "0.07580546350707382"
      ]
     },
     "execution_count": 15,
     "metadata": {},
     "output_type": "execute_result"
    }
   ],
   "source": [
    "%%time\n",
    "model_evaluation(model_mlp)"
   ]
  },
  {
   "cell_type": "markdown",
   "id": "55a158e1",
   "metadata": {},
   "source": [
    "## Training Bi-LSTM"
   ]
  },
  {
   "cell_type": "code",
   "execution_count": 16,
   "id": "43edd273",
   "metadata": {},
   "outputs": [],
   "source": [
    "EPOCHS = 1\n",
    "BATCH_SIZE = 128\n",
    "BI_LSTM_HIDDEN_DIM = 64"
   ]
  },
  {
   "cell_type": "markdown",
   "id": "e77d41da",
   "metadata": {},
   "source": [
    "### Model\n",
    "\n",
    "BiLSTM Block: It requires a dictionary input with the sequence of interaction embeddings `input_sequence`"
   ]
  },
  {
   "cell_type": "code",
   "execution_count": 17,
   "id": "b6059953",
   "metadata": {},
   "outputs": [],
   "source": [
    "class BiLSTM(mm.Block):\n",
    "    def __init__(self, hidden_dim= 64, **kwargs):\n",
    "        self.hidden_dim = hidden_dim\n",
    "        lstm = tf.keras.layers.LSTM(hidden_dim, return_sequences=False, dropout=0.05,\n",
    "                                   kernel_regularizer=regularizers.l2(1e-4))\n",
    "        self.lstm = tf.keras.layers.Bidirectional(lstm)\n",
    "        \n",
    "        super().__init__(**kwargs)\n",
    "        \n",
    "    def call(self, inputs, training=False, **kwargs) -> tf.Tensor:  \n",
    "        interactions = inputs['input_sequence']\n",
    "        sequence_representation = self.lstm(interactions)\n",
    "        return sequence_representation\n",
    "    \n",
    "    def compute_output_shape(self, input_shape):\n",
    "        input_shape = input_shape['input_sequence']\n",
    "        return (input_shape[0], input_shape[1], self.hidden_dim*2)\n",
    "    \n",
    "    \n",
    "bilstm = BiLSTM(hidden_dim=BI_LSTM_HIDDEN_DIM)"
   ]
  },
  {
   "cell_type": "markdown",
   "id": "afab0ad8",
   "metadata": {},
   "source": [
    "InputBlock which takes sequential features, concatenate them and return the sequence of interaction embeddings"
   ]
  },
  {
   "cell_type": "code",
   "execution_count": 18,
   "id": "f4f7fa56",
   "metadata": {},
   "outputs": [],
   "source": [
    "inputs = InputBlock(\n",
    "        schema_model,\n",
    "        aggregation='concat',\n",
    "        seq=True,\n",
    "        max_seq_length=20,\n",
    "        embedding_options=mm.EmbeddingOptions(\n",
    "            embedding_dim_default=128,\n",
    "            infer_embedding_sizes=True,\n",
    "            infer_embedding_sizes_multiplier=2,\n",
    "            infer_embeddings_ensure_dim_multiple_of_8=True\n",
    "        ),\n",
    "        split_sparse=True,\n",
    ")"
   ]
  },
  {
   "cell_type": "code",
   "execution_count": 19,
   "id": "d34d73ec",
   "metadata": {},
   "outputs": [],
   "source": [
    "dense_block = mm.ParallelBlock({'input_sequence': inputs}).connect(bilstm)"
   ]
  },
  {
   "cell_type": "markdown",
   "id": "a4a9b760",
   "metadata": {},
   "source": [
    "MLPBlock to get the sequence of hidden representation"
   ]
  },
  {
   "cell_type": "code",
   "execution_count": 20,
   "id": "589670d6",
   "metadata": {},
   "outputs": [],
   "source": [
    "mlp_block = mm.MLPBlock(\n",
    "                [64, 32],\n",
    "                activation='relu',\n",
    "                no_activation_last_layer=True,\n",
    "                dropout=0.01,\n",
    "            )"
   ]
  },
  {
   "cell_type": "markdown",
   "id": "94714039",
   "metadata": {},
   "source": [
    "Multi-Classiffication Prediction head which has\n",
    "- Layer Normalization\n",
    "- Weight Tying\n",
    "- Labels as One-hot encoded vectors, used for label smoothing \n",
    "- Temperature Scaling to reduce the overconfidence of the model"
   ]
  },
  {
   "cell_type": "code",
   "execution_count": 21,
   "id": "44557faa",
   "metadata": {},
   "outputs": [],
   "source": [
    "prediction_call = L2Norm().connect(\n",
    "    ItemsPredictionWeightTying(schema_model), \n",
    "    mm.LabelToOneHot(), \n",
    "    LogitsTemperatureScaler(temperature=2)\n",
    ")\n",
    "\n",
    "prediction_task = mm.MultiClassClassificationTask(\n",
    "    target_name=\"item_id_last\",\n",
    "    pre=prediction_call,\n",
    ")"
   ]
  },
  {
   "cell_type": "markdown",
   "id": "7f5caa99",
   "metadata": {},
   "source": [
    "Now, we connect all the blocks togther to build a model"
   ]
  },
  {
   "cell_type": "code",
   "execution_count": 22,
   "id": "34d575d1",
   "metadata": {},
   "outputs": [],
   "source": [
    "model_bi_lstm = Model(dense_block, mlp_block, prediction_task)\n",
    "\n",
    "optimizer = tf.keras.optimizers.Adam(\n",
    "    learning_rate=3e-1,\n",
    "    clipnorm=True\n",
    ")\n",
    "\n",
    "model_bi_lstm.compile(\n",
    "    optimizer=optimizer,\n",
    "    run_eagerly=True,\n",
    "    loss=tf.keras.losses.CategoricalCrossentropy(from_logits=True, label_smoothing=0.2),\n",
    "    metrics=mm.TopKMetricsAggregator.default_metrics(top_ks=[100])\n",
    ")"
   ]
  },
  {
   "cell_type": "markdown",
   "id": "893e0662",
   "metadata": {},
   "source": [
    "### Model Training"
   ]
  },
  {
   "cell_type": "code",
   "execution_count": 23,
   "id": "b3c690a2",
   "metadata": {},
   "outputs": [
    {
     "name": "stderr",
     "output_type": "stream",
     "text": [
      "2022-07-14 05:33:16.035175: I tensorflow/stream_executor/cuda/cuda_dnn.cc:379] Loaded cuDNN version 8400\n"
     ]
    },
    {
     "name": "stdout",
     "output_type": "stream",
     "text": [
      "6630/6630 [==============================] - 681s 101ms/step - loss: 25.8208 - recall_at_100: 0.2871 - mrr_at_100: 0.0584 - ndcg_at_100: 0.1004 - map_at_100: 0.0584 - precision_at_100: 0.0029 - regularization_loss: 17.2444 - val_loss: 27.7185 - val_recall_at_100: 0.2704 - val_mrr_at_100: 0.0753 - val_ndcg_at_100: 0.1120 - val_map_at_100: 0.0753 - val_precision_at_100: 0.0027 - val_regularization_loss: 18.6344\n",
      "CPU times: user 11min 58s, sys: 13.8 s, total: 12min 12s\n",
      "Wall time: 11min 31s\n"
     ]
    }
   ],
   "source": [
    "%%time\n",
    "history = model_bi_lstm.fit(start_month_train, validation_data=last_month_train, batch_size=BATCH_SIZE, epochs=EPOCHS)"
   ]
  },
  {
   "cell_type": "markdown",
   "id": "779c379a",
   "metadata": {},
   "source": [
    "### Model Evaluation"
   ]
  },
  {
   "cell_type": "code",
   "execution_count": 24,
   "id": "1094a3b6",
   "metadata": {},
   "outputs": [
    {
     "name": "stderr",
     "output_type": "stream",
     "text": [
      "/usr/local/lib/python3.8/dist-packages/cudf/core/dataframe.py:1292: UserWarning: The deep parameter is ignored and is only included for pandas compatibility.\n",
      "  warnings.warn(\n",
      "/tmp/ipykernel_91629/1660147556.py:4: DeprecationWarning: elementwise comparison failed; this will raise an error in the future.\n",
      "  rank = np.argmax(np.array(a)==b)\n"
     ]
    },
    {
     "name": "stdout",
     "output_type": "stream",
     "text": [
      "CPU times: user 2min 15s, sys: 55.5 s, total: 3min 10s\n",
      "Wall time: 2min 36s\n"
     ]
    },
    {
     "data": {
      "text/plain": [
       "0.017758847633143584"
      ]
     },
     "execution_count": 24,
     "metadata": {},
     "output_type": "execute_result"
    }
   ],
   "source": [
    "%%time\n",
    "model_evaluation(model_bi_lstm)"
   ]
  },
  {
   "cell_type": "code",
   "execution_count": null,
   "id": "06327764",
   "metadata": {},
   "outputs": [],
   "source": []
  }
 ],
 "metadata": {
  "kernelspec": {
   "display_name": "Python 3 (ipykernel)",
   "language": "python",
   "name": "python3"
  },
  "language_info": {
   "codemirror_mode": {
    "name": "ipython",
    "version": 3
   },
   "file_extension": ".py",
   "mimetype": "text/x-python",
   "name": "python",
   "nbconvert_exporter": "python",
   "pygments_lexer": "ipython3",
   "version": "3.8.10"
  }
 },
 "nbformat": 4,
 "nbformat_minor": 5
}
