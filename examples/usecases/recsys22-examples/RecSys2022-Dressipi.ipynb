{
 "cells": [
  {
   "cell_type": "code",
   "execution_count": null,
   "id": "77233d96",
   "metadata": {},
   "outputs": [],
   "source": [
    "# Copyright 2021 NVIDIA Corporation. All Rights Reserved.\n",
    "#\n",
    "# Licensed under the Apache License, Version 2.0 (the \"License\");\n",
    "# you may not use this file except in compliance with the License.\n",
    "# You may obtain a copy of the License at\n",
    "#\n",
    "#     http://www.apache.org/licenses/LICENSE-2.0\n",
    "#\n",
    "# Unless required by applicable law or agreed to in writing, software\n",
    "# distributed under the License is distributed on an \"AS IS\" BASIS,\n",
    "# WITHOUT WARRANTIES OR CONDITIONS OF ANY KIND, either express or implied.\n",
    "# See the License for the specific language governing permissions and\n",
    "# limitations under the License.\n",
    "# =============================================================================="
   ]
  },
  {
   "cell_type": "markdown",
   "id": "66ad6a2c",
   "metadata": {},
   "source": [
    "<img src=\"http://developer.download.nvidia.com/compute/machine-learning/frameworks/nvidia_logo.png\" style=\"width: 90px; float: right;\">\n",
    "\n",
    "# Recsys2022 Challenge \n",
    "\n",
    "NVIDIA-Merlin team participated in [Recsys2022 challenge](http://www.recsyschallenge.com/2022/index.html) and secured 3rd position. This notebook contains the various techniques used in the solution.\n",
    "\n",
    "### Learning Objective\n",
    "In this notebook, we will learn the importance of the concepts that improved the results of the competition significantly.\n",
    "\n",
    "- ##### Label smoothing\n",
    "     When the probabilities predicted by a Classification model are higher than its accuracy we say the model is overconfident. It can be prevented by using Label smoothing. This technique basically, transforms One-hot encoded labels into smoothed labels. \n",
    "$$  \\begin{array}{l}\n",
    "y_{l} \\ =\\ ( 1\\ -\\ \\alpha \\ ) \\ *\\ y_{o} \\ +\\ ( \\alpha \\ /\\ L)\\\\\n",
    "\\alpha :\\ Label\\ smoothing\\\\\n",
    "L:\\ Total\\ number\\ of\\ label\\ classes\\\\\n",
    "y_{o} :\\ One-hot\\ encoded\\ label\\ vector\n",
    "\\end{array}\n",
    "$$\n",
    "When α is 0, we have the original one-hot encoded labels, and as α increases, we move towards smoothed labels. Read [this](https://arxiv.org/abs/1906.02629) paper to learn more about it.\n",
    "\n",
    "\n",
    "- ##### Temperature Scaling\n",
    "    Similar to Label Smoothing, Temperature Scaling is done to reduce the overconfidence of a model. In this, we divide the logits (inputs to the softmax function) by a scalar parameter (T) . For more information on Temperature Scaling read [this](https://arxiv.org/pdf/1706.04599.pdf) paper.\n",
    "$$ softmax\\ =\\ \\frac{e\\ ^{( z_{i} \\ /\\ \\ T)}}{\\sum _{j} \\ e^{( z_{j} \\ /\\ T)} \\ } $$\n",
    "\n",
    "\n",
    "- ##### Weight Tying\n",
    "In this technique, we share the Embedding layer's weights which is used to convert the input to embeddings, as the softmax weights,  to convert hidden layer output to softmax layer output. This drastically reduces the number of parameters and allows the model to train better. For more information read [this](https://arxiv.org/pdf/1608.05859v3.pdf) paper."
   ]
  },
  {
   "cell_type": "code",
   "execution_count": 1,
   "id": "01af630a",
   "metadata": {},
   "outputs": [],
   "source": [
    "import os\n",
    "os.environ[\"CUDA_VISIBLE_DEVICES\"]=\"2\""
   ]
  },
  {
   "cell_type": "code",
   "execution_count": 2,
   "id": "eaf79042",
   "metadata": {},
   "outputs": [
    {
     "name": "stderr",
     "output_type": "stream",
     "text": [
      "2022-08-08 19:33:42.829651: I tensorflow/core/platform/cpu_feature_guard.cc:152] This TensorFlow binary is optimized with oneAPI Deep Neural Network Library (oneDNN) to use the following CPU instructions in performance-critical operations:  SSE3 SSE4.1 SSE4.2 AVX\n",
      "To enable them in other operations, rebuild TensorFlow with the appropriate compiler flags.\n",
      "2022-08-08 19:33:44.824686: I tensorflow/core/common_runtime/gpu/gpu_device.cc:1525] Created device /job:localhost/replica:0/task:0/device:GPU:0 with 16255 MB memory:  -> device: 0, name: Tesla V100-SXM2-32GB-LS, pci bus id: 0000:0a:00.0, compute capability: 7.0\n"
     ]
    }
   ],
   "source": [
    "import cudf\n",
    "import dask_cudf\n",
    "import numpy as np\n",
    "import pandas as pd \n",
    "\n",
    "import nvtabular as nvt\n",
    "from merlin.dag import ColumnSelector\n",
    "from merlin.io import Dataset\n",
    "from merlin.schema import Schema, Tags\n",
    "from nvtabular.ops import (\n",
    "    AddMetadata,\n",
    ")\n",
    "from merlin.schema.tags import Tags\n",
    "from utils import get_drepessi_recsys2022_dataset\n",
    "\n",
    "\n",
    "import tensorflow as tf\n",
    "from merlin.io import Dataset\n",
    "from merlin.schema import Tags\n",
    "from tensorflow.keras import regularizers\n",
    "from merlin.models.tf.dataset import BatchedDataset\n",
    "from merlin.models.tf.utils.tf_utils import extract_topk\n",
    "\n",
    "import merlin.models.tf as mm\n",
    "from merlin.models.tf import InputBlock\n",
    "from merlin.models.tf.models.base import Model\n",
    "from merlin.models.tf.core.aggregation import SequenceAggregation, SequenceAggregator\n",
    "from merlin.models.tf.core.transformations import (\n",
    "    ItemsPredictionWeightTying,\n",
    "    L2Norm,\n",
    "    LogitsTemperatureScaler,\n",
    ")\n",
    "\n",
    "\n",
    "DATA_FOLDER = 'dressipi'\n",
    "DATA_PROCESSED_FOLDER = 'dressipi_processed'\n",
    "DATETIME_CONVERTION = 'ms'"
   ]
  },
  {
   "cell_type": "markdown",
   "id": "dab71973",
   "metadata": {},
   "source": [
    "## Dressipi\n",
    "The [Dressipi](http://www.recsyschallenge.com/2022/dataset.html) dataset contains 1.1 M online retail sessions that resulted in a purchase. It provides details about items that were viewed in a session, the item purchased at the end of the session and numerous features of those items. The task of this competition was, given a sequence of items predict which item will be purchased at the end of a session.\n",
    "\n",
    "\n",
    "<img src=\"imgs/dressipi.JPG\" alt=\"dressipi_dataset\" style=\"width: 400px; float: center;\">  \n"
   ]
  },
  {
   "cell_type": "code",
   "execution_count": 23,
   "id": "875c141d",
   "metadata": {},
   "outputs": [],
   "source": [
    "train, valid, sessions = get_drepessi_recsys2022_dataset(DATA_FOLDER)"
   ]
  },
  {
   "cell_type": "markdown",
   "id": "0d882919",
   "metadata": {},
   "source": [
    "## Feature Engineering with NVTabular"
   ]
  },
  {
   "cell_type": "markdown",
   "id": "13959435",
   "metadata": {},
   "source": [
    "### Categorify"
   ]
  },
  {
   "cell_type": "code",
   "execution_count": 29,
   "id": "cd438ca5",
   "metadata": {},
   "outputs": [
    {
     "name": "stderr",
     "output_type": "stream",
     "text": [
      "/usr/local/lib/python3.8/dist-packages/cudf/core/dataframe.py:1292: UserWarning: The deep parameter is ignored and is only included for pandas compatibility.\n",
      "  warnings.warn(\n"
     ]
    },
    {
     "name": "stdout",
     "output_type": "stream",
     "text": [
      "CPU times: user 2.32 s, sys: 911 ms, total: 3.23 s\n",
      "Wall time: 6.08 s\n"
     ]
    }
   ],
   "source": [
    "%%time\n",
    "item_features_names = [col for col in train.columns if 'f_' in col]\n",
    "cat_features = ['session_id', 'item_id', 'purchase_id'] + item_features_names >> nvt.ops.Categorify()\n",
    "\n",
    "features = ['timestamp','date'] + cat_features\n",
    "dataset = Dataset(sessions)\n",
    "workflow0 = nvt.Workflow(features)\n",
    "workflow0.fit(dataset)\n",
    "\n",
    "# transform data\n",
    "train_0 = workflow0.transform(Dataset(train))\n",
    "valid_0 = workflow0.transform(Dataset(valid))"
   ]
  },
  {
   "cell_type": "markdown",
   "id": "55d56725",
   "metadata": {},
   "source": [
    "### GroupBy"
   ]
  },
  {
   "cell_type": "code",
   "execution_count": 30,
   "id": "e9ea2f55",
   "metadata": {},
   "outputs": [
    {
     "name": "stdout",
     "output_type": "stream",
     "text": [
      "CPU times: user 1.31 s, sys: 1.76 s, total: 3.07 s\n",
      "Wall time: 3.15 s\n"
     ]
    }
   ],
   "source": [
    "%%time\n",
    "features = train_0.head().columns.tolist()\n",
    "\n",
    "# Define Groupby Operator\n",
    "to_aggregate = {\n",
    "    'date': [\"first\", \"last\"],\n",
    "    'item_id': [\"list\"],\n",
    "    'timestamp': [\"list\"],\n",
    "    'purchase_id': ['first'],\n",
    "}\n",
    "for name in item_features_names: \n",
    "    to_aggregate[name] = ['list']\n",
    "    \n",
    "groupby_features = features >> nvt.ops.Groupby(\n",
    "    groupby_cols=[\"session_id\"], \n",
    "    sort_cols=[\"date\"],\n",
    "    aggs= to_aggregate,\n",
    "    name_sep=\"_\")\n",
    "\n",
    "# Add tags needed for the t4rec models definition\n",
    "item_list = groupby_features['item_id_list'] >> nvt.ops.AddMetadata(tags=[Tags.SEQUENCE, Tags.ITEM, Tags.ITEM_ID, Tags.LIST])\n",
    "feature_list = groupby_features[[name+'_list' for name in item_features_names]]>> nvt.ops.AddMetadata(tags=[Tags.SEQUENCE, Tags.ITEM, Tags.LIST])\n",
    "other_features = groupby_features['session_id', 'date_first', 'date_last','timestamp_list']\n",
    "target_feature = groupby_features['purchase_id_first'] >> nvt.ops.AddMetadata(tags=[Tags.TARGET])\n",
    "\n",
    "workflow1 = nvt.Workflow(item_list + feature_list + other_features + target_feature)\n",
    "workflow1.fit(train_0)\n",
    "\n",
    "# transform data\n",
    "train_1 = workflow1.transform(train_0)\n",
    "valid_1 = workflow1.transform(valid_0)"
   ]
  },
  {
   "cell_type": "markdown",
   "id": "c5096110",
   "metadata": {},
   "source": [
    "### Truncate and Padding for a Maximum Sequence Length"
   ]
  },
  {
   "cell_type": "code",
   "execution_count": 32,
   "id": "e61d9123",
   "metadata": {},
   "outputs": [],
   "source": [
    "SESSIONS_MAX_LENGTH = 20\n",
    "list_cols = [col for col in train_1.head().columns if 'list' in col and 'date' not in col]\n",
    "truncated_features = list_cols >> nvt.ops.ListSlice(-SESSIONS_MAX_LENGTH, pad=True) >> nvt.ops.Rename(postfix = '_seq')\n",
    "\n",
    "final_features = [\n",
    "    'session_id', 'date_first', 'date_last', 'item_id_list', 'purchase_id_first'\n",
    "]\n",
    "\n",
    "workflow2 = nvt.Workflow(final_features + truncated_features)\n",
    "workflow2.fit(train_1)\n",
    "\n",
    "# transform data\n",
    "train_2 = workflow2.transform(train_1)\n",
    "valid_2 = workflow2.transform(valid_1)"
   ]
  },
  {
   "cell_type": "markdown",
   "id": "3e42297a",
   "metadata": {},
   "source": [
    "### Save processed data to Parquet files"
   ]
  },
  {
   "cell_type": "code",
   "execution_count": 33,
   "id": "227f57f6",
   "metadata": {},
   "outputs": [
    {
     "name": "stdout",
     "output_type": "stream",
     "text": [
      "CPU times: user 28.6 ms, sys: 4.34 ms, total: 32.9 ms\n",
      "Wall time: 31.5 ms\n"
     ]
    }
   ],
   "source": [
    "%%time\n",
    "train_ds = Dataset(train_2.to_ddf().sort_values('date_last'), schema=train_2.schema)\n",
    "valid_ds = Dataset(valid_2.to_ddf().sort_values('date_last'), schema=valid_2.schema)\n",
    "\n",
    "train_ds.to_parquet(os.path.join(DATA_PROCESSED_FOLDER, \"train/\"), output_files=10)\n",
    "valid_ds.to_parquet(os.path.join(DATA_PROCESSED_FOLDER, \"valid/\"), output_files=10)"
   ]
  },
  {
   "cell_type": "markdown",
   "id": "c33a7c11",
   "metadata": {},
   "source": [
    "## Training - MLP\n",
    "\n",
    "A sequential-MLP model with average of the sequence as final representation"
   ]
  },
  {
   "cell_type": "code",
   "execution_count": 4,
   "id": "13c78f9c",
   "metadata": {},
   "outputs": [],
   "source": [
    "train = Dataset(os.path.join(DATA_PROCESSED_FOLDER, 'train/*.parquet'), shuffle=False,)\n",
    "valid = Dataset(os.path.join(DATA_PROCESSED_FOLDER, 'valid/*.parquet'), shuffle=False,)\n",
    "\n",
    "purchases = pd.read_csv(os.path.join(DATA_FOLDER, \"train_purchases.csv\"))\n",
    "item_map = pd.read_parquet(\n",
    "    os.path.join(\"categories\", \"unique.item_id.parquet\"))['item_id'].to_dict()\n",
    "session_map = pd.read_parquet(\n",
    "    os.path.join(\"categories\", \"unique.session_id.parquet\"))['session_id'].to_dict()"
   ]
  },
  {
   "cell_type": "code",
   "execution_count": 5,
   "id": "c2e52459",
   "metadata": {},
   "outputs": [
    {
     "data": {
      "text/html": [
       "<div>\n",
       "<style scoped>\n",
       "    .dataframe tbody tr th:only-of-type {\n",
       "        vertical-align: middle;\n",
       "    }\n",
       "\n",
       "    .dataframe tbody tr th {\n",
       "        vertical-align: top;\n",
       "    }\n",
       "\n",
       "    .dataframe thead th {\n",
       "        text-align: right;\n",
       "    }\n",
       "</style>\n",
       "<table border=\"1\" class=\"dataframe\">\n",
       "  <thead>\n",
       "    <tr style=\"text-align: right;\">\n",
       "      <th></th>\n",
       "      <th>name</th>\n",
       "      <th>tags</th>\n",
       "      <th>dtype</th>\n",
       "      <th>is_list</th>\n",
       "      <th>is_ragged</th>\n",
       "      <th>properties.num_buckets</th>\n",
       "      <th>properties.freq_threshold</th>\n",
       "      <th>properties.max_size</th>\n",
       "      <th>properties.start_index</th>\n",
       "      <th>properties.cat_path</th>\n",
       "      <th>properties.embedding_sizes.cardinality</th>\n",
       "      <th>properties.embedding_sizes.dimension</th>\n",
       "      <th>properties.domain.min</th>\n",
       "      <th>properties.domain.max</th>\n",
       "      <th>properties.domain.name</th>\n",
       "    </tr>\n",
       "  </thead>\n",
       "  <tbody>\n",
       "    <tr>\n",
       "      <th>0</th>\n",
       "      <td>item_id_list_seq</td>\n",
       "      <td>(Tags.LIST, Tags.ITEM, Tags.ITEM_ID, Tags.SEQU...</td>\n",
       "      <td>int64</td>\n",
       "      <td>True</td>\n",
       "      <td>False</td>\n",
       "      <td>None</td>\n",
       "      <td>0.0</td>\n",
       "      <td>0.0</td>\n",
       "      <td>0.0</td>\n",
       "      <td>.//categories/unique.item_id.parquet</td>\n",
       "      <td>23497.0</td>\n",
       "      <td>449.0</td>\n",
       "      <td>0</td>\n",
       "      <td>23497</td>\n",
       "      <td>item_id</td>\n",
       "    </tr>\n",
       "    <tr>\n",
       "      <th>1</th>\n",
       "      <td>purchase_id_first</td>\n",
       "      <td>(Tags.TARGET, Tags.CATEGORICAL)</td>\n",
       "      <td>int64</td>\n",
       "      <td>False</td>\n",
       "      <td>False</td>\n",
       "      <td>None</td>\n",
       "      <td>0.0</td>\n",
       "      <td>0.0</td>\n",
       "      <td>0.0</td>\n",
       "      <td>.//categories/unique.purchase_id.parquet</td>\n",
       "      <td>18908.0</td>\n",
       "      <td>397.0</td>\n",
       "      <td>0</td>\n",
       "      <td>18908</td>\n",
       "      <td>purchase_id</td>\n",
       "    </tr>\n",
       "  </tbody>\n",
       "</table>\n",
       "</div>"
      ],
      "text/plain": [
       "[{'name': 'item_id_list_seq', 'tags': {<Tags.LIST: 'list'>, <Tags.ITEM: 'item'>, <Tags.ITEM_ID: 'item_id'>, <Tags.SEQUENCE: 'sequence'>, <Tags.CATEGORICAL: 'categorical'>}, 'properties': {'num_buckets': None, 'freq_threshold': 0.0, 'max_size': 0.0, 'start_index': 0.0, 'cat_path': './/categories/unique.item_id.parquet', 'embedding_sizes': {'cardinality': 23497.0, 'dimension': 449.0}, 'domain': {'min': 0, 'max': 23497, 'name': 'item_id'}}, 'dtype': dtype('int64'), 'is_list': True, 'is_ragged': False}, {'name': 'purchase_id_first', 'tags': {<Tags.TARGET: 'target'>, <Tags.CATEGORICAL: 'categorical'>}, 'properties': {'num_buckets': None, 'freq_threshold': 0.0, 'max_size': 0.0, 'start_index': 0.0, 'cat_path': './/categories/unique.purchase_id.parquet', 'embedding_sizes': {'cardinality': 18908.0, 'dimension': 397.0}, 'domain': {'min': 0, 'max': 18908, 'name': 'purchase_id'}}, 'dtype': dtype('int64'), 'is_list': False, 'is_ragged': False}]"
      ]
     },
     "execution_count": 5,
     "metadata": {},
     "output_type": "execute_result"
    }
   ],
   "source": [
    "schema_model = train.schema.select_by_name(['item_id_list_seq', 'purchase_id_first'])\n",
    "schema_model"
   ]
  },
  {
   "cell_type": "code",
   "execution_count": 7,
   "id": "51b91bdc",
   "metadata": {},
   "outputs": [],
   "source": [
    "EPOCHS = 1\n",
    "BATCH_SIZE = 512"
   ]
  },
  {
   "cell_type": "markdown",
   "id": "76771e83",
   "metadata": {},
   "source": [
    "### Model\n",
    "InputBlock which takes sequential features, concatenate them and return the sequence of interaction embeddings"
   ]
  },
  {
   "cell_type": "code",
   "execution_count": 8,
   "id": "781a98ce",
   "metadata": {},
   "outputs": [],
   "source": [
    "input_block = InputBlock(\n",
    "        schema_model,\n",
    "        aggregation='concat',\n",
    "        seq=True,\n",
    "        max_seq_length=20,\n",
    "        embedding_options=mm.EmbeddingOptions(embedding_dim_default=128),\n",
    "        split_sparse=True,\n",
    ")"
   ]
  },
  {
   "cell_type": "markdown",
   "id": "7c34c441",
   "metadata": {},
   "source": [
    "MLPBlock to get the sequence of hidden representation"
   ]
  },
  {
   "cell_type": "code",
   "execution_count": 9,
   "id": "06e452d5",
   "metadata": {},
   "outputs": [],
   "source": [
    "mlp_block = mm.MLPBlock(\n",
    "                [64, 128],\n",
    "                activation='relu',\n",
    "                no_activation_last_layer=True,\n",
    "                dropout=0.01,\n",
    "            )"
   ]
  },
  {
   "cell_type": "markdown",
   "id": "d6f6bee1",
   "metadata": {},
   "source": [
    "Multi-Classiffication Prediction head which has\n",
    "- Layer Normalization\n",
    "- Weight Tying\n",
    "- Labels as One-hot encoded vectors, used for label smoothing \n",
    "- Temperature Scaling to reduce the overconfidence of the model"
   ]
  },
  {
   "cell_type": "code",
   "execution_count": 10,
   "id": "cb628b1b",
   "metadata": {},
   "outputs": [],
   "source": [
    "prediction_call = L2Norm().connect(\n",
    "    ItemsPredictionWeightTying(schema_model), \n",
    "    mm.LabelToOneHot(), \n",
    "    LogitsTemperatureScaler(temperature=2)\n",
    ")\n",
    "\n",
    "prediction_task = mm.MultiClassClassificationTask(\n",
    "    target_name=\"purchase_id_first\",\n",
    "    pre=prediction_call,\n",
    ")"
   ]
  },
  {
   "cell_type": "markdown",
   "id": "72b238e7",
   "metadata": {},
   "source": [
    "Now, we connect all the blocks togther to build a model"
   ]
  },
  {
   "cell_type": "code",
   "execution_count": 11,
   "id": "c38b36df",
   "metadata": {},
   "outputs": [
    {
     "name": "stderr",
     "output_type": "stream",
     "text": [
      "2022-08-08 19:35:17.689787: W tensorflow/python/util/util.cc:368] Sets are not currently considered sequences, but this may change in the future, so consider avoiding using them.\n"
     ]
    }
   ],
   "source": [
    "model_mlp = Model(input_block, mlp_block, SequenceAggregator(SequenceAggregation.MEAN), prediction_task)\n",
    "\n",
    "optimizer = tf.keras.optimizers.Adam(\n",
    "    learning_rate=3e-1,\n",
    "    clipnorm=True\n",
    ")\n",
    "\n",
    "# model_mlp.compile(optimizer=optimizer, run_eagerly=False)\n",
    "model_mlp.compile(\n",
    "    optimizer=optimizer,\n",
    "    run_eagerly=True,\n",
    "    loss=tf.keras.losses.CategoricalCrossentropy(from_logits=True, label_smoothing=0.2),\n",
    "    metrics=mm.TopKMetricsAggregator.default_metrics(top_ks=[100])\n",
    ")"
   ]
  },
  {
   "cell_type": "code",
   "execution_count": 36,
   "id": "529c2e77",
   "metadata": {},
   "outputs": [
    {
     "name": "stdout",
     "output_type": "stream",
     "text": [
      "Model: \"model_1\"\n",
      "_________________________________________________________________\n",
      " Layer (type)                Output Shape              Param #   \n",
      "=================================================================\n",
      " parallel_block_3 (ParallelB  multiple                 3007744   \n",
      " lock)                                                           \n",
      "                                                                 \n",
      " sequential_block_7 (Sequent  multiple                 16576     \n",
      " ialBlock)                                                       \n",
      "                                                                 \n",
      " sequence_aggregator_2 (Sequ  multiple                 3007744   \n",
      " enceAggregator)                                                 \n",
      "                                                                 \n",
      " purchase_id_first/multi_cla  (512, 23498)             3031242   \n",
      " ss_classification_task (Mul                                     \n",
      " tiClassClassificationTask)                                      \n",
      "                                                                 \n",
      " model_context_1 (ModelConte  multiple                 3007744   \n",
      " xt)                                                             \n",
      "                                                                 \n",
      "=================================================================\n",
      "Total params: 3,047,819\n",
      "Trainable params: 3,047,818\n",
      "Non-trainable params: 1\n",
      "_________________________________________________________________\n"
     ]
    }
   ],
   "source": [
    "model_mlp.summary()"
   ]
  },
  {
   "cell_type": "markdown",
   "id": "2d1938bb",
   "metadata": {},
   "source": [
    "### Model Training"
   ]
  },
  {
   "cell_type": "code",
   "execution_count": null,
   "id": "e4659598",
   "metadata": {},
   "outputs": [
    {
     "name": "stdout",
     "output_type": "stream",
     "text": [
      "1422/1799 [======================>.......] - ETA: 31s - loss: 8.3850 - recall_at_100: 0.2304 - mrr_at_100: 0.0434 - ndcg_at_100: 0.0777 - map_at_100: 0.0434 - precision_at_100: 0.0023 - regularization_loss: 0.0000e+00"
     ]
    }
   ],
   "source": [
    "%%time\n",
    "history = model_mlp.fit(\n",
    "    train,\n",
    "    validation_data=valid,\n",
    "    batch_size=BATCH_SIZE,\n",
    "    epochs=EPOCHS,\n",
    "    schema=schema_model,\n",
    ")"
   ]
  },
  {
   "cell_type": "code",
   "execution_count": 26,
   "id": "b2dfcf39",
   "metadata": {},
   "outputs": [],
   "source": [
    "# def compute_mrr(rec_list,target):\n",
    "#     mrr = 0\n",
    "#     for a,b in zip(rec_list,target):\n",
    "#         rank = np.argmax(np.array(a)==b)\n",
    "#         if rank == 0 and a[0] == b:\n",
    "#             mrr += 1\n",
    "#         elif rank != 0:\n",
    "#             mrr += (1 / (1 + rank))\n",
    "#     return mrr/(target.shape[0])"
   ]
  },
  {
   "cell_type": "code",
   "execution_count": 27,
   "id": "817b426a",
   "metadata": {},
   "outputs": [],
   "source": [
    "# def model_evaluation(model):\n",
    "#     valid = Dataset(\n",
    "#     [DATA_PROCESSED_FOLDER+'/valid/*.parquet'], \n",
    "#     shuffle=False)\n",
    "#     x = BatchedDataset(\n",
    "#         valid, def compute_mrr(rec_list,target):\n",
    "#     mrr = 0\n",
    "#     for a,b in zip(rec_list,target):\n",
    "#         rank = np.argmax(np.array(a)==b)\n",
    "#         if rank == 0 and a[0] == b:\n",
    "#             mrr += 1\n",
    "#         elif rank != 0:\n",
    "#             mrr += (1 / (1 + rank))\n",
    "#     return mrr/(target.shape[0])\n",
    "#         batch_size=512, \n",
    "#         shuffle=False, \n",
    "#     )\n",
    "#     predictions = model.predict(x)\n",
    "\n",
    "#     topk_predicted = []\n",
    "#     for i in range(predictions.shape[0]):\n",
    "#         _, topk_indices = tf.math.top_k(predictions[i, :], 100)\n",
    "#         topk_predicted.append(topk_indices.numpy().reshape(1, 100))\n",
    "\n",
    "#     top_predicted = np.concatenate(topk_predicted)\n",
    "\n",
    "#     valid_data = valid.to_ddf().compute().to_pandas()\n",
    "#     valid_data['session_id'] = valid_data.session_id.map(session_map)\n",
    "#     valid_data = pd.merge(valid_data, purchases, on='session_id')[['session_id', 'item_id']]\n",
    "\n",
    "#     valid_data['top100_predicted'] = top_predicted.tolist()\n",
    "#     valid_data['top100_predicted']= valid_data['top100_predicted'].apply(lambda x: [item_map[i] for i in x])\n",
    "\n",
    "#     return compute_mrr(valid_data['top100_predicted'], valid_data['item_id'])"
   ]
  },
  {
   "cell_type": "markdown",
   "id": "7538a632",
   "metadata": {},
   "source": [
    "### Model Evaluation"
   ]
  },
  {
   "cell_type": "code",
   "execution_count": 16,
   "id": "84f7541f",
   "metadata": {},
   "outputs": [
    {
     "name": "stderr",
     "output_type": "stream",
     "text": [
      "/usr/local/lib/python3.8/dist-packages/cudf/core/dataframe.py:1292: UserWarning: The deep parameter is ignored and is only included for pandas compatibility.\n",
      "  warnings.warn(\n"
     ]
    },
    {
     "name": "stdout",
     "output_type": "stream",
     "text": [
      "CPU times: user 1min 42s, sys: 12.4 s, total: 1min 55s\n",
      "Wall time: 1min 30s\n"
     ]
    },
    {
     "data": {
      "text/plain": [
       "0.010065922109270606"
      ]
     },
     "execution_count": 16,
     "metadata": {},
     "output_type": "execute_result"
    }
   ],
   "source": [
    "# %%time\n",
    "# model_evaluation(model_mlp)"
   ]
  },
  {
   "cell_type": "code",
   "execution_count": null,
   "id": "853dbcc1",
   "metadata": {},
   "outputs": [],
   "source": [
    "import cupy\n",
    "\n",
    "def generate_recommendations(pred, df_agg, batch_size=1024, n_topk=100):\n",
    "    print('Mask Predictions')\n",
    "    print('Generate Top100 Recommendations')\n",
    "    out_pred = []\n",
    "    out_score = []\n",
    "    for i in range(0, pred.shape[0]//batch_size+1):\n",
    "        batch_start = (i)*batch_size\n",
    "        batch_end = min((i+1)*batch_size, pred.shape[0])\n",
    "        pred_tmp = pred[batch_start:batch_end]\n",
    "        cp_pred = cupy.asarray(pred_tmp)\n",
    "        pred_idx = cupy.argsort(-cp_pred)\n",
    "        pred_idx = cupy.asnumpy(pred_idx)\n",
    "        for j in range(pred_idx.shape[0]):\n",
    "            topk = []\n",
    "            score = []\n",
    "            for k in range(n_topk):\n",
    "                idx = pred_idx[j][k]\n",
    "                topk.append(idx)\n",
    "                score.append(pred_tmp[j][idx])\n",
    "            out_pred.append(topk)\n",
    "            out_score.append(score)\n",
    "    \n",
    "    print('Transform Top100 Recommendations')\n",
    "    metadata = df_agg[['session_id', 'purchase_id_first']].to_pandas().values.tolist()\n",
    "    out = []\n",
    "    for i, ex in enumerate(metadata):\n",
    "        session_id = ex[0]\n",
    "        purchase = ex[1]\n",
    "        for k in range(n_topk):\n",
    "            out.append([session_id, purchase, out_pred[i][k], out_score[i][k]])\n",
    "\n",
    "    df_rec = cudf.DataFrame(out)\n",
    "    df_rec.columns = ['session_id', 'purchased', 'rec', 'score']\n",
    "    return(df_rec)\n",
    "\n",
    "def evaluate(df, add_folds=False):\n",
    "    df = df.drop_duplicates(['session_id', 'rec'])\n",
    "    df = df.sort_values(['session_id', 'score'], ascending=False)\n",
    "    df['dummy'] = 1\n",
    "    df['rank'] = df[['session_id', 'dummy']].groupby('session_id').cumsum()\n",
    "    df = df[df['rank']<=100]\n",
    "    df.drop('dummy', inplace=True, axis=1)\n",
    "    df['mrr'] = 1/df['rank']\n",
    "    df.loc[df['purchased']!=df['rec'], 'mrr'] = 0\n",
    "    out = {}\n",
    "    mrr = df[df['purchased']==df['rec']]['mrr'].sum()/df['session_id'].drop_duplicates().shape[0]\n",
    "    out['total'] = mrr\n",
    "    return(out)\n",
    "\n",
    "predictions = model_mlp.predict(valid, batch_size=1024, verbose=1)\n",
    "ddf = valid.to_ddf()\n",
    "ddf = ddf[['session_id', 'purchase_id_first']].compute()\n",
    "df_rec = generate_recommendations(predictions, ddf)\n",
    "evaluate(df_rec)"
   ]
  },
  {
   "cell_type": "markdown",
   "id": "3e12a42c",
   "metadata": {},
   "source": [
    "## Training Bi-LSTM"
   ]
  },
  {
   "cell_type": "code",
   "execution_count": 17,
   "id": "7dbeefd4",
   "metadata": {},
   "outputs": [],
   "source": [
    "EPOCHS = 10\n",
    "BATCH_SIZE = 512\n",
    "BI_LSTM_HIDDEN_DIM = 64"
   ]
  },
  {
   "cell_type": "markdown",
   "id": "fb0c1c51",
   "metadata": {},
   "source": [
    "### Model\n",
    "\n",
    "BiLSTM Block: It requires a dictionary input with the sequence of interaction embeddings `input_sequence`"
   ]
  },
  {
   "cell_type": "code",
   "execution_count": 18,
   "id": "1b47572a",
   "metadata": {},
   "outputs": [],
   "source": [
    "class BiLSTM(mm.Block):\n",
    "    def __init__(self, hidden_dim= 64, **kwargs):\n",
    "        self.hidden_dim = hidden_dim\n",
    "        lstm = tf.keras.layers.LSTM(hidden_dim, return_sequences=False, dropout=0.05,\n",
    "                                   kernel_regularizer=regularizers.l2(1e-4))\n",
    "        self.lstm = tf.keras.layers.Bidirectional(lstm)\n",
    "        \n",
    "        super().__init__(**kwargs)\n",
    "        \n",
    "    def call(self, inputs, training=False, **kwargs) -> tf.Tensor:  \n",
    "        interactions = inputs['input_sequence']\n",
    "        sequence_representation = self.lstm(interactions)\n",
    "        return sequence_representation\n",
    "    \n",
    "    def compute_output_shape(self, input_shape):\n",
    "        input_shape = input_shape['input_sequence']\n",
    "        return (input_shape[0], input_shape[1], self.hidden_dim*2)\n",
    "    \n",
    "    \n",
    "bilstm = BiLSTM(hidden_dim=BI_LSTM_HIDDEN_DIM)"
   ]
  },
  {
   "cell_type": "markdown",
   "id": "0fdb91ec",
   "metadata": {},
   "source": [
    "InputBlock which takes sequential features, concatenate them and return the sequence of interaction embeddings"
   ]
  },
  {
   "cell_type": "code",
   "execution_count": 19,
   "id": "3a3e0c2c",
   "metadata": {},
   "outputs": [],
   "source": [
    "inputs = InputBlock(\n",
    "        schema_model,\n",
    "        aggregation='concat',\n",
    "        seq=True,\n",
    "        max_seq_length=20,\n",
    "        embedding_options=mm.EmbeddingOptions(\n",
    "            embedding_dim_default=128,\n",
    "            infer_embedding_sizes=True,\n",
    "            infer_embedding_sizes_multiplier=2,\n",
    "            infer_embeddings_ensure_dim_multiple_of_8=True\n",
    "        ),\n",
    "        split_sparse=True,\n",
    ")"
   ]
  },
  {
   "cell_type": "code",
   "execution_count": 20,
   "id": "896e7038",
   "metadata": {},
   "outputs": [],
   "source": [
    "dense_block = mm.ParallelBlock({'input_sequence': inputs}).connect(bilstm)"
   ]
  },
  {
   "cell_type": "markdown",
   "id": "bf2cc159",
   "metadata": {},
   "source": [
    "MLPBlock to get the sequence of hidden representation"
   ]
  },
  {
   "cell_type": "code",
   "execution_count": 21,
   "id": "92c0cd96",
   "metadata": {},
   "outputs": [],
   "source": [
    "mlp_block = mm.MLPBlock(\n",
    "                [64, 32],\n",
    "                activation='relu',\n",
    "                no_activation_last_layer=True,\n",
    "                dropout=0.01,\n",
    "            )"
   ]
  },
  {
   "cell_type": "markdown",
   "id": "ca666e2b",
   "metadata": {},
   "source": [
    "Multi-Classiffication Prediction head which has\n",
    "- Layer Normalization\n",
    "- Weight Tying\n",
    "- Labels as One-hot encoded vectors, used for label smoothing \n",
    "- Temperature Scaling to reduce the overconfidence of the model"
   ]
  },
  {
   "cell_type": "code",
   "execution_count": 22,
   "id": "117b68d5",
   "metadata": {},
   "outputs": [],
   "source": [
    "prediction_call = L2Norm().connect(\n",
    "    ItemsPredictionWeightTying(schema_model), \n",
    "    mm.LabelToOneHot(), \n",
    "    LogitsTemperatureScaler(temperature=2)\n",
    ")\n",
    "\n",
    "prediction_task = mm.MultiClassClassificationTask(\n",
    "    target_name=\"purchase_id_first\",\n",
    "    pre=prediction_call,\n",
    ")"
   ]
  },
  {
   "cell_type": "markdown",
   "id": "44994224",
   "metadata": {},
   "source": [
    "Now, we connect all the blocks togther to build a model"
   ]
  },
  {
   "cell_type": "code",
   "execution_count": 23,
   "id": "929d93ac",
   "metadata": {},
   "outputs": [],
   "source": [
    "model_bi_lstm = Model(dense_block, mlp_block, prediction_task)\n",
    "\n",
    "optimizer = tf.keras.optimizers.Adam(\n",
    "    learning_rate=3e-1,\n",
    "    clipnorm=True\n",
    ")\n",
    "\n",
    "model_bi_lstm.compile(\n",
    "    optimizer=optimizer,\n",
    "    run_eagerly=True,\n",
    "    loss=tf.keras.losses.CategoricalCrossentropy(from_logits=True, label_smoothing=0.2),\n",
    "    metrics=mm.TopKMetricsAggregator.default_metrics(top_ks=[100])\n",
    ")"
   ]
  },
  {
   "cell_type": "markdown",
   "id": "17e6c2e4",
   "metadata": {},
   "source": [
    "### Model Training"
   ]
  },
  {
   "cell_type": "code",
   "execution_count": 24,
   "id": "63b615b9",
   "metadata": {},
   "outputs": [
    {
     "name": "stdout",
     "output_type": "stream",
     "text": [
      "Epoch 1/10\n",
      "1799/1799 [==============================] - 573s 312ms/step - loss: 13.4683 - recall_at_100: 0.1395 - mrr_at_100: 0.0177 - ndcg_at_100: 0.0389 - map_at_100: 0.0177 - precision_at_100: 0.0014 - regularization_loss: 4.5007 - val_loss: 14.7090 - val_recall_at_100: 0.1800 - val_mrr_at_100: 0.0201 - val_ndcg_at_100: 0.0483 - val_map_at_100: 0.0201 - val_precision_at_100: 0.0018 - val_regularization_loss: 5.5888\n",
      "Epoch 2/10\n",
      "1799/1799 [==============================] - 549s 302ms/step - loss: 14.9613 - recall_at_100: 0.1342 - mrr_at_100: 0.0173 - ndcg_at_100: 0.0377 - map_at_100: 0.0173 - precision_at_100: 0.0013 - regularization_loss: 5.9665 - val_loss: 14.6463 - val_recall_at_100: 0.1752 - val_mrr_at_100: 0.0184 - val_ndcg_at_100: 0.0463 - val_map_at_100: 0.0184 - val_precision_at_100: 0.0018 - val_regularization_loss: 5.5241\n",
      "Epoch 3/10\n",
      "1799/1799 [==============================] - 563s 310ms/step - loss: 20.7259 - recall_at_100: 0.1343 - mrr_at_100: 0.0173 - ndcg_at_100: 0.0378 - map_at_100: 0.0173 - precision_at_100: 0.0013 - regularization_loss: 11.7215 - val_loss: 23.2163 - val_recall_at_100: 0.1839 - val_mrr_at_100: 0.0200 - val_ndcg_at_100: 0.0485 - val_map_at_100: 0.0200 - val_precision_at_100: 0.0018 - val_regularization_loss: 14.0966\n",
      "Epoch 4/10\n",
      "1799/1799 [==============================] - 552s 304ms/step - loss: 24.2127 - recall_at_100: 0.1350 - mrr_at_100: 0.0174 - ndcg_at_100: 0.0380 - map_at_100: 0.0174 - precision_at_100: 0.0013 - regularization_loss: 15.2128 - val_loss: 22.7597 - val_recall_at_100: 0.1780 - val_mrr_at_100: 0.0207 - val_ndcg_at_100: 0.0483 - val_map_at_100: 0.0207 - val_precision_at_100: 0.0018 - val_regularization_loss: 13.6546\n",
      "Epoch 5/10\n",
      "1799/1799 [==============================] - 550s 303ms/step - loss: 23.0834 - recall_at_100: 0.1362 - mrr_at_100: 0.0179 - ndcg_at_100: 0.0386 - map_at_100: 0.0179 - precision_at_100: 0.0014 - regularization_loss: 14.0950 - val_loss: 21.9130 - val_recall_at_100: 0.1764 - val_mrr_at_100: 0.0192 - val_ndcg_at_100: 0.0470 - val_map_at_100: 0.0192 - val_precision_at_100: 0.0018 - val_regularization_loss: 12.8045\n",
      "Epoch 6/10\n",
      "1799/1799 [==============================] - 556s 306ms/step - loss: 22.5991 - recall_at_100: 0.1355 - mrr_at_100: 0.0175 - ndcg_at_100: 0.0381 - map_at_100: 0.0175 - precision_at_100: 0.0014 - regularization_loss: 13.6176 - val_loss: 23.5357 - val_recall_at_100: 0.1743 - val_mrr_at_100: 0.0204 - val_ndcg_at_100: 0.0476 - val_map_at_100: 0.0204 - val_precision_at_100: 0.0017 - val_regularization_loss: 14.4207\n",
      "Epoch 7/10\n",
      "1799/1799 [==============================] - 547s 301ms/step - loss: 22.7144 - recall_at_100: 0.1373 - mrr_at_100: 0.0177 - ndcg_at_100: 0.0386 - map_at_100: 0.0177 - precision_at_100: 0.0014 - regularization_loss: 13.7335 - val_loss: 22.6372 - val_recall_at_100: 0.1807 - val_mrr_at_100: 0.0210 - val_ndcg_at_100: 0.0492 - val_map_at_100: 0.0210 - val_precision_at_100: 0.0018 - val_regularization_loss: 13.5506\n",
      "Epoch 8/10\n",
      "1799/1799 [==============================] - 559s 308ms/step - loss: 22.5754 - recall_at_100: 0.1363 - mrr_at_100: 0.0177 - ndcg_at_100: 0.0384 - map_at_100: 0.0177 - precision_at_100: 0.0014 - regularization_loss: 13.5941 - val_loss: 23.0293 - val_recall_at_100: 0.1804 - val_mrr_at_100: 0.0210 - val_ndcg_at_100: 0.0491 - val_map_at_100: 0.0210 - val_precision_at_100: 0.0018 - val_regularization_loss: 13.9295\n",
      "Epoch 9/10\n",
      "1799/1799 [==============================] - 547s 301ms/step - loss: 22.1267 - recall_at_100: 0.1361 - mrr_at_100: 0.0177 - ndcg_at_100: 0.0384 - map_at_100: 0.0177 - precision_at_100: 0.0014 - regularization_loss: 13.1443 - val_loss: 22.3713 - val_recall_at_100: 0.1887 - val_mrr_at_100: 0.0190 - val_ndcg_at_100: 0.0489 - val_map_at_100: 0.0190 - val_precision_at_100: 0.0019 - val_regularization_loss: 13.2821\n",
      "Epoch 10/10\n",
      "1799/1799 [==============================] - 547s 301ms/step - loss: 22.1145 - recall_at_100: 0.1355 - mrr_at_100: 0.0175 - ndcg_at_100: 0.0382 - map_at_100: 0.0175 - precision_at_100: 0.0014 - regularization_loss: 13.1321 - val_loss: 22.3281 - val_recall_at_100: 0.1816 - val_mrr_at_100: 0.0201 - val_ndcg_at_100: 0.0484 - val_map_at_100: 0.0201 - val_precision_at_100: 0.0018 - val_regularization_loss: 13.2279\n",
      "CPU times: user 1h 46min 28s, sys: 7min 9s, total: 1h 53min 38s\n",
      "Wall time: 1h 32min 32s\n"
     ]
    }
   ],
   "source": [
    "%%time\n",
    "history = model_bi_lstm.fit(train, validation_data=valid, batch_size=BATCH_SIZE, epochs=EPOCHS)"
   ]
  },
  {
   "cell_type": "markdown",
   "id": "5f285d20",
   "metadata": {},
   "source": [
    "### Model Evaluation"
   ]
  },
  {
   "cell_type": "code",
   "execution_count": 28,
   "id": "e5f2f63b",
   "metadata": {},
   "outputs": [
    {
     "name": "stderr",
     "output_type": "stream",
     "text": [
      "/usr/local/lib/python3.8/dist-packages/cudf/core/dataframe.py:1292: UserWarning: The deep parameter is ignored and is only included for pandas compatibility.\n",
      "  warnings.warn(\n"
     ]
    },
    {
     "name": "stdout",
     "output_type": "stream",
     "text": [
      "CPU times: user 1min 46s, sys: 11.6 s, total: 1min 58s\n",
      "Wall time: 1min 30s\n"
     ]
    },
    {
     "data": {
      "text/plain": [
       "0.010840330784918362"
      ]
     },
     "execution_count": 28,
     "metadata": {},
     "output_type": "execute_result"
    }
   ],
   "source": [
    "%%time\n",
    "model_evaluation(model_bi_lstm)"
   ]
  },
  {
   "cell_type": "code",
   "execution_count": null,
   "id": "fbde41a7",
   "metadata": {},
   "outputs": [],
   "source": []
  }
 ],
 "metadata": {
  "kernelspec": {
   "display_name": "Python 3 (ipykernel)",
   "language": "python",
   "name": "python3"
  },
  "language_info": {
   "codemirror_mode": {
    "name": "ipython",
    "version": 3
   },
   "file_extension": ".py",
   "mimetype": "text/x-python",
   "name": "python",
   "nbconvert_exporter": "python",
   "pygments_lexer": "ipython3",
   "version": "3.8.10"
  }
 },
 "nbformat": 4,
 "nbformat_minor": 5
}
