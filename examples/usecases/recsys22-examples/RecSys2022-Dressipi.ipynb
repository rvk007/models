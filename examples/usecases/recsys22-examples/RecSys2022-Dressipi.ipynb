{
 "cells": [
  {
   "cell_type": "code",
   "execution_count": null,
   "id": "b9d53f16",
   "metadata": {},
   "outputs": [],
   "source": [
    "# Copyright 2021 NVIDIA Corporation. All Rights Reserved.\n",
    "#\n",
    "# Licensed under the Apache License, Version 2.0 (the \"License\");\n",
    "# you may not use this file except in compliance with the License.\n",
    "# You may obtain a copy of the License at\n",
    "#\n",
    "#     http://www.apache.org/licenses/LICENSE-2.0\n",
    "#\n",
    "# Unless required by applicable law or agreed to in writing, software\n",
    "# distributed under the License is distributed on an \"AS IS\" BASIS,\n",
    "# WITHOUT WARRANTIES OR CONDITIONS OF ANY KIND, either express or implied.\n",
    "# See the License for the specific language governing permissions and\n",
    "# limitations under the License.\n",
    "# =============================================================================="
   ]
  },
  {
   "cell_type": "markdown",
   "id": "78c24da0",
   "metadata": {},
   "source": [
    "<img src=\"http://developer.download.nvidia.com/compute/machine-learning/frameworks/nvidia_logo.png\" style=\"width: 90px; float: right;\">\n",
    "\n",
    "# Recsys2022 Challenge \n",
    "\n",
    "NVIDIA-Merlin team participated in [Recsys2022 challenge](http://www.recsyschallenge.com/2022/index.html) and secured 3rd position. This notebook contains the various techniques used in the solution.\n",
    "\n",
    "### Learning Objective\n",
    "In this notebook, we will learn the importance of the concepts that improved the results of the competition significantly.\n",
    "\n",
    "- ##### Label smoothing\n",
    "     When the probabilities predicted by a Classification model are higher than its accuracy we say the model is overconfident. It can be prevented by using Label smoothing. This technique basically, transforms One-hot encoded labels into smoothed labels. \n",
    "$$  \\begin{array}{l}\n",
    "y_{l} \\ =\\ ( 1\\ -\\ \\alpha \\ ) \\ *\\ y_{o} \\ +\\ ( \\alpha \\ /\\ L)\\\\\n",
    "\\alpha :\\ Label\\ smoothing\\\\\n",
    "L:\\ Total\\ number\\ of\\ label\\ classes\\\\\n",
    "y_{o} :\\ One-hot\\ encoded\\ label\\ vector\n",
    "\\end{array}\n",
    "$$\n",
    "When α is 0, we have the original one-hot encoded labels, and as α increases, we move towards smoothed labels. Read [this](https://arxiv.org/abs/1906.02629) paper to learn more about it.\n",
    "\n",
    "\n",
    "- ##### Temperature Scaling\n",
    "    Similar to Label Smoothing, Temperature Scaling is done to reduce the overconfidence of a model. In this, we divide the logits (inputs to the softmax function) by a scalar parameter (T) . For more information on Temperature Scaling read [this](https://arxiv.org/pdf/1706.04599.pdf) paper.\n",
    "$$ softmax\\ =\\ \\frac{e\\ ^{( z_{i} \\ /\\ \\ T)}}{\\sum _{j} \\ e^{( z_{j} \\ /\\ T)} \\ } $$\n",
    "\n",
    "\n",
    "- ##### Weight Tying\n",
    "In this technique, we share the Embedding layer's weights which is used to convert the input to embeddings, as the softmax weights,  to convert hidden layer output to softmax layer output. This drastically reduces the number of parameters and allows the model to train better. For more information read [this](https://arxiv.org/pdf/1608.05859v3.pdf) paper."
   ]
  },
  {
   "cell_type": "code",
   "execution_count": null,
   "id": "8b0be24e",
   "metadata": {},
   "outputs": [],
   "source": [
    "import os\n",
    "if __name__=='__main__':\n",
    "    os._exit(0)"
   ]
  },
  {
   "cell_type": "code",
   "execution_count": 1,
   "id": "224b2152",
   "metadata": {},
   "outputs": [
    {
     "name": "stdout",
     "output_type": "stream",
     "text": [
      "Thu Aug 11 06:54:36 2022       \n",
      "+-----------------------------------------------------------------------------+\n",
      "| NVIDIA-SMI 450.119.04   Driver Version: 450.119.04   CUDA Version: 11.6     |\n",
      "|-------------------------------+----------------------+----------------------+\n",
      "| GPU  Name        Persistence-M| Bus-Id        Disp.A | Volatile Uncorr. ECC |\n",
      "| Fan  Temp  Perf  Pwr:Usage/Cap|         Memory-Usage | GPU-Util  Compute M. |\n",
      "|                               |                      |               MIG M. |\n",
      "|===============================+======================+======================|\n",
      "|   0  Tesla V100-SXM2...  On   | 00000000:06:00.0 Off |                    0 |\n",
      "| N/A   34C    P0    47W / 163W |  17624MiB / 32510MiB |      0%      Default |\n",
      "|                               |                      |                  N/A |\n",
      "+-------------------------------+----------------------+----------------------+\n",
      "|   1  Tesla V100-SXM2...  On   | 00000000:07:00.0 Off |                    0 |\n",
      "| N/A   36C    P0    73W / 163W |  20370MiB / 32510MiB |     22%      Default |\n",
      "|                               |                      |                  N/A |\n",
      "+-------------------------------+----------------------+----------------------+\n",
      "|   2  Tesla V100-SXM2...  On   | 00000000:0A:00.0 Off |                    0 |\n",
      "| N/A   36C    P0    49W / 163W |      0MiB / 32510MiB |      0%      Default |\n",
      "|                               |                      |                  N/A |\n",
      "+-------------------------------+----------------------+----------------------+\n",
      "|   3  Tesla V100-SXM2...  On   | 00000000:0B:00.0 Off |                    0 |\n",
      "| N/A   35C    P0    55W / 163W |  19418MiB / 32510MiB |     17%      Default |\n",
      "|                               |                      |                  N/A |\n",
      "+-------------------------------+----------------------+----------------------+\n",
      "                                                                               \n",
      "+-----------------------------------------------------------------------------+\n",
      "| Processes:                                                                  |\n",
      "|  GPU   GI   CI        PID   Type   Process name                  GPU Memory |\n",
      "|        ID   ID                                                   Usage      |\n",
      "|=============================================================================|\n",
      "+-----------------------------------------------------------------------------+\n"
     ]
    }
   ],
   "source": [
    "!nvidia-smi"
   ]
  },
  {
   "cell_type": "code",
   "execution_count": 2,
   "id": "e7acd276",
   "metadata": {},
   "outputs": [],
   "source": [
    "import os\n",
    "os.environ[\"CUDA_VISIBLE_DEVICES\"]=\"2\""
   ]
  },
  {
   "cell_type": "code",
   "execution_count": 3,
   "id": "83a60129",
   "metadata": {},
   "outputs": [
    {
     "name": "stderr",
     "output_type": "stream",
     "text": [
      "2022-08-11 06:54:51.182338: I tensorflow/core/platform/cpu_feature_guard.cc:152] This TensorFlow binary is optimized with oneAPI Deep Neural Network Library (oneDNN) to use the following CPU instructions in performance-critical operations:  SSE3 SSE4.1 SSE4.2 AVX\n",
      "To enable them in other operations, rebuild TensorFlow with the appropriate compiler flags.\n",
      "2022-08-11 06:54:53.256150: I tensorflow/core/common_runtime/gpu/gpu_device.cc:1525] Created device /job:localhost/replica:0/task:0/device:GPU:0 with 16255 MB memory:  -> device: 0, name: Tesla V100-SXM2-32GB-LS, pci bus id: 0000:0a:00.0, compute capability: 7.0\n"
     ]
    }
   ],
   "source": [
    "import cupy\n",
    "import cudf\n",
    "import dask_cudf\n",
    "import numpy as np\n",
    "import pandas as pd \n",
    "\n",
    "import nvtabular as nvt\n",
    "from merlin.dag import ColumnSelector\n",
    "from merlin.io import Dataset\n",
    "from merlin.schema import Schema, Tags\n",
    "from nvtabular.ops import (\n",
    "    AddMetadata,\n",
    ")\n",
    "from merlin.schema.tags import Tags\n",
    "from utils import get_drepessi_recsys2022_dataset\n",
    "\n",
    "\n",
    "import tensorflow as tf\n",
    "from merlin.io import Dataset\n",
    "from merlin.schema import Tags\n",
    "from tensorflow.keras import regularizers\n",
    "from merlin.models.tf.dataset import BatchedDataset\n",
    "from merlin.models.tf.utils.tf_utils import extract_topk\n",
    "\n",
    "import merlin.models.tf as mm\n",
    "from merlin.models.tf import InputBlock\n",
    "from merlin.models.tf.models.base import Model\n",
    "from merlin.models.tf.core.aggregation import SequenceAggregation, SequenceAggregator\n",
    "from merlin.models.tf.core.transformations import (\n",
    "    ItemsPredictionWeightTying,\n",
    "    L2Norm,\n",
    "    LogitsTemperatureScaler,\n",
    ")\n",
    "\n",
    "\n",
    "DATA_FOLDER = 'dressipi'\n",
    "DATA_PROCESSED_FOLDER = 'dressipi_processed'\n",
    "DATETIME_CONVERTION = 'ms'"
   ]
  },
  {
   "cell_type": "markdown",
   "id": "87c16e5d",
   "metadata": {},
   "source": [
    "## Dressipi\n",
    "The [Dressipi](http://www.recsyschallenge.com/2022/dataset.html) dataset contains 1.1 M online retail sessions that resulted in a purchase. It provides details about items that were viewed in a session, the item purchased at the end of the session and numerous features of those items. The task of this competition was, given a sequence of items predict which item will be purchased at the end of a session.\n",
    "\n",
    "\n",
    "<img src=\"imgs/dressipi.JPG\" alt=\"dressipi_dataset\" style=\"width: 400px; float: center;\">  \n"
   ]
  },
  {
   "cell_type": "code",
   "execution_count": 4,
   "id": "a0a1ce7d",
   "metadata": {},
   "outputs": [],
   "source": [
    "train, valid, sessions = get_drepessi_recsys2022_dataset(DATA_FOLDER)"
   ]
  },
  {
   "cell_type": "markdown",
   "id": "ad9ec730",
   "metadata": {},
   "source": [
    "## Dataset\n",
    "The training and validation data contains the `session_id` in which a user viewed and purchased an item. In each session we have `item_id` which was viewed at a given `timestamp` and `purchase_id` which is the id of item bought at the end of the session. In addition to `timestamp`, we have `day` and `date` features for representing the chronological order in which items were viewed.\n",
    "\n",
    "The items in the Dresspi dataset had a many features out of which we took 14 most important features, namely \n",
    "`f_3, f_4, f_5, f_17, f_24, f_30, f_45, f_46, f_53, f_55, f_58, f_63, f_65, f_73`"
   ]
  },
  {
   "cell_type": "code",
   "execution_count": 6,
   "id": "2e58330f",
   "metadata": {},
   "outputs": [
    {
     "data": {
      "text/html": [
       "<div>\n",
       "<style scoped>\n",
       "    .dataframe tbody tr th:only-of-type {\n",
       "        vertical-align: middle;\n",
       "    }\n",
       "\n",
       "    .dataframe tbody tr th {\n",
       "        vertical-align: top;\n",
       "    }\n",
       "\n",
       "    .dataframe thead th {\n",
       "        text-align: right;\n",
       "    }\n",
       "</style>\n",
       "<table border=\"1\" class=\"dataframe\">\n",
       "  <thead>\n",
       "    <tr style=\"text-align: right;\">\n",
       "      <th></th>\n",
       "      <th>session_id</th>\n",
       "      <th>item_id</th>\n",
       "      <th>date</th>\n",
       "      <th>f_3</th>\n",
       "      <th>f_4</th>\n",
       "      <th>f_5</th>\n",
       "      <th>f_7</th>\n",
       "      <th>f_17</th>\n",
       "      <th>f_24</th>\n",
       "      <th>f_30</th>\n",
       "      <th>...</th>\n",
       "      <th>f_61</th>\n",
       "      <th>f_63</th>\n",
       "      <th>f_65</th>\n",
       "      <th>f_68</th>\n",
       "      <th>f_69</th>\n",
       "      <th>f_72</th>\n",
       "      <th>f_73</th>\n",
       "      <th>timestamp</th>\n",
       "      <th>day</th>\n",
       "      <th>purchase_id</th>\n",
       "    </tr>\n",
       "  </thead>\n",
       "  <tbody>\n",
       "    <tr>\n",
       "      <th>0</th>\n",
       "      <td>20376</td>\n",
       "      <td>16541</td>\n",
       "      <td>2020-09-29 13:58:15.382</td>\n",
       "      <td>793.0</td>\n",
       "      <td>385.0</td>\n",
       "      <td>472.0</td>\n",
       "      <td>414.0</td>\n",
       "      <td>378.0</td>\n",
       "      <td>-1.0</td>\n",
       "      <td>-1.000000</td>\n",
       "      <td>...</td>\n",
       "      <td>706.0</td>\n",
       "      <td>142.0</td>\n",
       "      <td>-1.0</td>\n",
       "      <td>744.0</td>\n",
       "      <td>592.0</td>\n",
       "      <td>75.0</td>\n",
       "      <td>544.0</td>\n",
       "      <td>1601387895382</td>\n",
       "      <td>272</td>\n",
       "      <td>2855</td>\n",
       "    </tr>\n",
       "    <tr>\n",
       "      <th>1</th>\n",
       "      <td>20383</td>\n",
       "      <td>13811</td>\n",
       "      <td>2021-04-03 13:40:38.346</td>\n",
       "      <td>-1.0</td>\n",
       "      <td>618.0</td>\n",
       "      <td>-1.0</td>\n",
       "      <td>394.0</td>\n",
       "      <td>-1.0</td>\n",
       "      <td>588.0</td>\n",
       "      <td>-1.000000</td>\n",
       "      <td>...</td>\n",
       "      <td>462.0</td>\n",
       "      <td>861.0</td>\n",
       "      <td>-1.0</td>\n",
       "      <td>739.0</td>\n",
       "      <td>805.0</td>\n",
       "      <td>75.0</td>\n",
       "      <td>544.0</td>\n",
       "      <td>1617457238346</td>\n",
       "      <td>458</td>\n",
       "      <td>419</td>\n",
       "    </tr>\n",
       "    <tr>\n",
       "      <th>2</th>\n",
       "      <td>20383</td>\n",
       "      <td>18953</td>\n",
       "      <td>2021-04-03 13:41:05.685</td>\n",
       "      <td>-1.0</td>\n",
       "      <td>618.0</td>\n",
       "      <td>-1.0</td>\n",
       "      <td>394.0</td>\n",
       "      <td>-1.0</td>\n",
       "      <td>588.0</td>\n",
       "      <td>-1.000000</td>\n",
       "      <td>...</td>\n",
       "      <td>462.0</td>\n",
       "      <td>861.0</td>\n",
       "      <td>-1.0</td>\n",
       "      <td>739.0</td>\n",
       "      <td>805.0</td>\n",
       "      <td>75.0</td>\n",
       "      <td>544.0</td>\n",
       "      <td>1617457265685</td>\n",
       "      <td>458</td>\n",
       "      <td>419</td>\n",
       "    </tr>\n",
       "    <tr>\n",
       "      <th>3</th>\n",
       "      <td>20397</td>\n",
       "      <td>15041</td>\n",
       "      <td>2020-04-10 17:32:20.052</td>\n",
       "      <td>-1.0</td>\n",
       "      <td>618.0</td>\n",
       "      <td>-1.0</td>\n",
       "      <td>619.0</td>\n",
       "      <td>378.0</td>\n",
       "      <td>-1.0</td>\n",
       "      <td>480.000000</td>\n",
       "      <td>...</td>\n",
       "      <td>706.0</td>\n",
       "      <td>861.0</td>\n",
       "      <td>521.0</td>\n",
       "      <td>441.0</td>\n",
       "      <td>592.0</td>\n",
       "      <td>655.0</td>\n",
       "      <td>544.0</td>\n",
       "      <td>1586539940052</td>\n",
       "      <td>100</td>\n",
       "      <td>20202</td>\n",
       "    </tr>\n",
       "    <tr>\n",
       "      <th>4</th>\n",
       "      <td>20397</td>\n",
       "      <td>25161</td>\n",
       "      <td>2020-04-10 17:33:12.893</td>\n",
       "      <td>-1.0</td>\n",
       "      <td>618.0</td>\n",
       "      <td>-1.0</td>\n",
       "      <td>619.0</td>\n",
       "      <td>378.0</td>\n",
       "      <td>-1.0</td>\n",
       "      <td>602.333333</td>\n",
       "      <td>...</td>\n",
       "      <td>706.0</td>\n",
       "      <td>861.0</td>\n",
       "      <td>521.0</td>\n",
       "      <td>531.0</td>\n",
       "      <td>592.0</td>\n",
       "      <td>655.0</td>\n",
       "      <td>544.0</td>\n",
       "      <td>1586539992893</td>\n",
       "      <td>100</td>\n",
       "      <td>20202</td>\n",
       "    </tr>\n",
       "  </tbody>\n",
       "</table>\n",
       "<p>5 rows × 28 columns</p>\n",
       "</div>"
      ],
      "text/plain": [
       "   session_id  item_id                    date    f_3    f_4    f_5    f_7  \\\n",
       "0       20376    16541 2020-09-29 13:58:15.382  793.0  385.0  472.0  414.0   \n",
       "1       20383    13811 2021-04-03 13:40:38.346   -1.0  618.0   -1.0  394.0   \n",
       "2       20383    18953 2021-04-03 13:41:05.685   -1.0  618.0   -1.0  394.0   \n",
       "3       20397    15041 2020-04-10 17:32:20.052   -1.0  618.0   -1.0  619.0   \n",
       "4       20397    25161 2020-04-10 17:33:12.893   -1.0  618.0   -1.0  619.0   \n",
       "\n",
       "    f_17   f_24        f_30  ...   f_61   f_63   f_65   f_68   f_69   f_72  \\\n",
       "0  378.0   -1.0   -1.000000  ...  706.0  142.0   -1.0  744.0  592.0   75.0   \n",
       "1   -1.0  588.0   -1.000000  ...  462.0  861.0   -1.0  739.0  805.0   75.0   \n",
       "2   -1.0  588.0   -1.000000  ...  462.0  861.0   -1.0  739.0  805.0   75.0   \n",
       "3  378.0   -1.0  480.000000  ...  706.0  861.0  521.0  441.0  592.0  655.0   \n",
       "4  378.0   -1.0  602.333333  ...  706.0  861.0  521.0  531.0  592.0  655.0   \n",
       "\n",
       "    f_73      timestamp  day  purchase_id  \n",
       "0  544.0  1601387895382  272         2855  \n",
       "1  544.0  1617457238346  458          419  \n",
       "2  544.0  1617457265685  458          419  \n",
       "3  544.0  1586539940052  100        20202  \n",
       "4  544.0  1586539992893  100        20202  \n",
       "\n",
       "[5 rows x 28 columns]"
      ]
     },
     "execution_count": 6,
     "metadata": {},
     "output_type": "execute_result"
    }
   ],
   "source": [
    "train.head()"
   ]
  },
  {
   "cell_type": "code",
   "execution_count": 7,
   "id": "c5542bfc",
   "metadata": {},
   "outputs": [],
   "source": [
    "itemids = cudf.concat([train['item_id'], \n",
    "                       valid['item_id'], \n",
    "                       train['purchase_id'], \n",
    "                       valid['purchase_id']])\n",
    "itemids = cudf.DataFrame(itemids).drop_duplicates().reset_index(drop=True).reset_index()\n",
    "itemids.columns = ['_item_id', 'item_id_new']\n",
    "itemids['_item_id'] = itemids['_item_id'] + 2\n",
    "\n",
    "def map_itemids(df, col):\n",
    "    df = df.merge(\n",
    "        itemids, \n",
    "        how='left', \n",
    "        left_on=col,\n",
    "        right_on='item_id_new'\n",
    "    )\n",
    "    df.drop([col], axis=1, inplace=True)\n",
    "    if 'item_id_new' in df.columns:\n",
    "        df.drop(['item_id_new'], axis=1, inplace=True)\n",
    "    df = df.rename(columns={'_item_id': col})\n",
    "    return(df)\n",
    "\n",
    "train = map_itemids(train, 'item_id')\n",
    "train = map_itemids(train, 'purchase_id')\n",
    "\n",
    "valid = map_itemids(valid, 'item_id')\n",
    "valid = map_itemids(valid, 'purchase_id')"
   ]
  },
  {
   "cell_type": "markdown",
   "id": "cf173a32",
   "metadata": {},
   "source": [
    "## Feature Engineering with NVTabular"
   ]
  },
  {
   "cell_type": "markdown",
   "id": "07a4bb67",
   "metadata": {},
   "source": [
    "### Categorify"
   ]
  },
  {
   "cell_type": "code",
   "execution_count": 8,
   "id": "1848adeb",
   "metadata": {},
   "outputs": [
    {
     "name": "stderr",
     "output_type": "stream",
     "text": [
      "/usr/local/lib/python3.8/dist-packages/cudf/core/dataframe.py:1292: UserWarning: The deep parameter is ignored and is only included for pandas compatibility.\n",
      "  warnings.warn(\n"
     ]
    },
    {
     "name": "stdout",
     "output_type": "stream",
     "text": [
      "CPU times: user 2.26 s, sys: 914 ms, total: 3.17 s\n",
      "Wall time: 31.7 s\n"
     ]
    }
   ],
   "source": [
    "%%time\n",
    "item_features_names = [col for col in train.columns if 'f_' in col]\n",
    "cat_features = ['session_id', ['item_id', 'purchase_id']] + item_features_names >> nvt.ops.Categorify()\n",
    "\n",
    "features = ['timestamp','date'] + cat_features\n",
    "dataset = Dataset(sessions)\n",
    "workflow0 = nvt.Workflow(features)\n",
    "workflow0.fit(dataset)\n",
    "\n",
    "# transform data\n",
    "train_0 = workflow0.transform(Dataset(train))\n",
    "valid_0 = workflow0.transform(Dataset(valid))"
   ]
  },
  {
   "cell_type": "markdown",
   "id": "118b39e9",
   "metadata": {},
   "source": [
    "### GroupBy"
   ]
  },
  {
   "cell_type": "code",
   "execution_count": 9,
   "id": "0ff22c54",
   "metadata": {},
   "outputs": [
    {
     "name": "stdout",
     "output_type": "stream",
     "text": [
      "CPU times: user 1.36 s, sys: 1.91 s, total: 3.27 s\n",
      "Wall time: 4.13 s\n"
     ]
    }
   ],
   "source": [
    "%%time\n",
    "features = train_0.head().columns.tolist()\n",
    "\n",
    "# Define Groupby Operator\n",
    "to_aggregate = {\n",
    "    'date': [\"first\", \"last\"],\n",
    "    'item_id': [\"list\", 'last'],\n",
    "    'timestamp': [\"list\"],\n",
    "    'purchase_id': ['first'],\n",
    "}\n",
    "for name in item_features_names: \n",
    "    to_aggregate[name] = ['list']\n",
    "    \n",
    "groupby_features = features >> nvt.ops.Groupby(\n",
    "    groupby_cols=[\"session_id\"], \n",
    "    sort_cols=[\"date\"],\n",
    "    aggs= to_aggregate,\n",
    "    name_sep=\"_\")\n",
    "\n",
    "# Add tags needed for the t4rec models definition\n",
    "item_last = groupby_features['item_id_last'] >> nvt.ops.AddMetadata(tags=[Tags.ITEM, Tags.ITEM_ID, Tags.CATEGORICAL])\n",
    "item_list = groupby_features['item_id_list'] >> nvt.ops.AddMetadata(tags=[Tags.ITEM, Tags.ITEM_ID, Tags.LIST, Tags.SEQUENCE, Tags.CATEGORICAL])\n",
    "\n",
    "# item_list = groupby_features['item_id_list'] >> nvt.ops.AddMetadata(tags=[Tags.SEQUENCE, Tags.ITEM, Tags.ITEM_ID, Tags.LIST])\n",
    "feature_list = groupby_features[[name+'_list' for name in item_features_names]]>> nvt.ops.AddMetadata(tags=[Tags.SEQUENCE, Tags.ITEM, Tags.LIST])\n",
    "other_features = groupby_features['session_id', 'date_first', 'date_last','timestamp_list']\n",
    "target_feature = groupby_features['purchase_id_first'] >> nvt.ops.AddMetadata(tags=[Tags.TARGET])\n",
    "\n",
    "workflow1 = nvt.Workflow(item_last + item_list + feature_list + other_features + target_feature)\n",
    "workflow1.fit(train_0)\n",
    "\n",
    "# transform data\n",
    "train_1 = workflow1.transform(train_0)\n",
    "valid_1 = workflow1.transform(valid_0)"
   ]
  },
  {
   "cell_type": "markdown",
   "id": "aed18d4c",
   "metadata": {},
   "source": [
    "### Truncate and Padding for a Maximum Sequence Length"
   ]
  },
  {
   "cell_type": "code",
   "execution_count": 10,
   "id": "772d3fc6",
   "metadata": {},
   "outputs": [],
   "source": [
    "SESSIONS_MAX_LENGTH = 20\n",
    "list_cols = [col for col in train_1.head().columns if 'list' in col and 'date' not in col]\n",
    "truncated_features = list_cols >> nvt.ops.ListSlice(-SESSIONS_MAX_LENGTH, pad=True) >> nvt.ops.Rename(postfix = '_seq')\n",
    "\n",
    "final_features = [\n",
    "    'session_id', 'date_first', 'date_last', 'item_id_list', 'item_id_last', 'purchase_id_first'\n",
    "]\n",
    "\n",
    "workflow2 = nvt.Workflow(final_features + truncated_features)\n",
    "workflow2.fit(train_1)\n",
    "\n",
    "# transform data\n",
    "train_2 = workflow2.transform(train_1)\n",
    "valid_2 = workflow2.transform(valid_1)"
   ]
  },
  {
   "cell_type": "markdown",
   "id": "299750bd",
   "metadata": {},
   "source": [
    "### Save processed data to Parquet files"
   ]
  },
  {
   "cell_type": "code",
   "execution_count": 11,
   "id": "7205dd57",
   "metadata": {},
   "outputs": [
    {
     "name": "stdout",
     "output_type": "stream",
     "text": [
      "CPU times: user 22 s, sys: 29.9 s, total: 51.9 s\n",
      "Wall time: 3min 56s\n"
     ]
    }
   ],
   "source": [
    "%%time\n",
    "train_ds = Dataset(train_2.to_ddf().sort_values('date_last'), schema=train_2.schema)\n",
    "valid_ds = Dataset(valid_2.to_ddf().sort_values('date_last'), schema=valid_2.schema)\n",
    "\n",
    "train_ds.to_parquet(os.path.join(DATA_PROCESSED_FOLDER, \"train/\"), output_files=10)\n",
    "valid_ds.to_parquet(os.path.join(DATA_PROCESSED_FOLDER, \"valid/\"), output_files=10)"
   ]
  },
  {
   "cell_type": "markdown",
   "id": "8de4de0f",
   "metadata": {},
   "source": [
    "## Training - MLP\n",
    "\n",
    "A sequential-MLP model with average of the sequence as final representation"
   ]
  },
  {
   "cell_type": "code",
   "execution_count": 13,
   "id": "b49dc781",
   "metadata": {},
   "outputs": [],
   "source": [
    "SEED = 42\n",
    "EPOCHS = 5\n",
    "BATCH_SIZE = 512\n",
    "LEARNING_RATE = 3e-1\n",
    "CLIPNORM = True\n",
    "DROPOUT= 0.2 \n",
    "LABEL_SMOOTHING = 0.2\n",
    "TEMPERATURE_SCALING = 2\n",
    "OPTIMIZER_NAME = 'adam'\n",
    "LOSS='CategoricalCrossentropy'\n",
    "\n",
    "tf.keras.utils.set_random_seed(SEED)"
   ]
  },
  {
   "cell_type": "code",
   "execution_count": 24,
   "id": "e48263e1",
   "metadata": {},
   "outputs": [
    {
     "name": "stderr",
     "output_type": "stream",
     "text": [
      "/usr/local/lib/python3.8/dist-packages/cudf/core/dataframe.py:1292: UserWarning: The deep parameter is ignored and is only included for pandas compatibility.\n",
      "  warnings.warn(\n"
     ]
    }
   ],
   "source": [
    "train = Dataset(os.path.join(DATA_PROCESSED_FOLDER, 'train/*.parquet'), shuffle=False,)\n",
    "valid = Dataset(os.path.join(DATA_PROCESSED_FOLDER, 'valid/*.parquet'), shuffle=False,)"
   ]
  },
  {
   "cell_type": "code",
   "execution_count": 25,
   "id": "b544fd24",
   "metadata": {},
   "outputs": [
    {
     "data": {
      "text/html": [
       "<div>\n",
       "<style scoped>\n",
       "    .dataframe tbody tr th:only-of-type {\n",
       "        vertical-align: middle;\n",
       "    }\n",
       "\n",
       "    .dataframe tbody tr th {\n",
       "        vertical-align: top;\n",
       "    }\n",
       "\n",
       "    .dataframe thead th {\n",
       "        text-align: right;\n",
       "    }\n",
       "</style>\n",
       "<table border=\"1\" class=\"dataframe\">\n",
       "  <thead>\n",
       "    <tr style=\"text-align: right;\">\n",
       "      <th></th>\n",
       "      <th>name</th>\n",
       "      <th>tags</th>\n",
       "      <th>dtype</th>\n",
       "      <th>is_list</th>\n",
       "      <th>is_ragged</th>\n",
       "      <th>properties.num_buckets</th>\n",
       "      <th>properties.freq_threshold</th>\n",
       "      <th>properties.max_size</th>\n",
       "      <th>properties.start_index</th>\n",
       "      <th>properties.cat_path</th>\n",
       "      <th>properties.embedding_sizes.cardinality</th>\n",
       "      <th>properties.embedding_sizes.dimension</th>\n",
       "      <th>properties.domain.min</th>\n",
       "      <th>properties.domain.max</th>\n",
       "      <th>properties.domain.name</th>\n",
       "    </tr>\n",
       "  </thead>\n",
       "  <tbody>\n",
       "    <tr>\n",
       "      <th>0</th>\n",
       "      <td>item_id_last</td>\n",
       "      <td>(Tags.ITEM_ID, Tags.CATEGORICAL, Tags.ITEM)</td>\n",
       "      <td>int64</td>\n",
       "      <td>False</td>\n",
       "      <td>False</td>\n",
       "      <td>None</td>\n",
       "      <td>0.0</td>\n",
       "      <td>0.0</td>\n",
       "      <td>0.0</td>\n",
       "      <td>.//categories/unique.item_id_purchase_id.parquet</td>\n",
       "      <td>23619.0</td>\n",
       "      <td>450.0</td>\n",
       "      <td>0</td>\n",
       "      <td>23619</td>\n",
       "      <td>item_id_purchase_id</td>\n",
       "    </tr>\n",
       "    <tr>\n",
       "      <th>1</th>\n",
       "      <td>item_id_list_seq</td>\n",
       "      <td>(Tags.ITEM_ID, Tags.LIST, Tags.ITEM, Tags.SEQU...</td>\n",
       "      <td>int64</td>\n",
       "      <td>True</td>\n",
       "      <td>False</td>\n",
       "      <td>None</td>\n",
       "      <td>0.0</td>\n",
       "      <td>0.0</td>\n",
       "      <td>0.0</td>\n",
       "      <td>.//categories/unique.item_id_purchase_id.parquet</td>\n",
       "      <td>23619.0</td>\n",
       "      <td>450.0</td>\n",
       "      <td>0</td>\n",
       "      <td>23619</td>\n",
       "      <td>item_id_purchase_id</td>\n",
       "    </tr>\n",
       "    <tr>\n",
       "      <th>2</th>\n",
       "      <td>purchase_id_first</td>\n",
       "      <td>(Tags.TARGET, Tags.CATEGORICAL)</td>\n",
       "      <td>int64</td>\n",
       "      <td>False</td>\n",
       "      <td>False</td>\n",
       "      <td>None</td>\n",
       "      <td>0.0</td>\n",
       "      <td>0.0</td>\n",
       "      <td>0.0</td>\n",
       "      <td>.//categories/unique.item_id_purchase_id.parquet</td>\n",
       "      <td>23619.0</td>\n",
       "      <td>450.0</td>\n",
       "      <td>0</td>\n",
       "      <td>23619</td>\n",
       "      <td>item_id_purchase_id</td>\n",
       "    </tr>\n",
       "  </tbody>\n",
       "</table>\n",
       "</div>"
      ],
      "text/plain": [
       "[{'name': 'item_id_last', 'tags': {<Tags.ITEM_ID: 'item_id'>, <Tags.CATEGORICAL: 'categorical'>, <Tags.ITEM: 'item'>}, 'properties': {'num_buckets': None, 'freq_threshold': 0.0, 'max_size': 0.0, 'start_index': 0.0, 'cat_path': './/categories/unique.item_id_purchase_id.parquet', 'embedding_sizes': {'cardinality': 23619.0, 'dimension': 450.0}, 'domain': {'min': 0, 'max': 23619, 'name': 'item_id_purchase_id'}}, 'dtype': dtype('int64'), 'is_list': False, 'is_ragged': False}, {'name': 'item_id_list_seq', 'tags': {<Tags.ITEM_ID: 'item_id'>, <Tags.LIST: 'list'>, <Tags.ITEM: 'item'>, <Tags.SEQUENCE: 'sequence'>, <Tags.CATEGORICAL: 'categorical'>}, 'properties': {'num_buckets': None, 'freq_threshold': 0.0, 'max_size': 0.0, 'start_index': 0.0, 'cat_path': './/categories/unique.item_id_purchase_id.parquet', 'embedding_sizes': {'cardinality': 23619.0, 'dimension': 450.0}, 'domain': {'min': 0, 'max': 23619, 'name': 'item_id_purchase_id'}}, 'dtype': dtype('int64'), 'is_list': True, 'is_ragged': False}, {'name': 'purchase_id_first', 'tags': {<Tags.TARGET: 'target'>, <Tags.CATEGORICAL: 'categorical'>}, 'properties': {'num_buckets': None, 'freq_threshold': 0.0, 'max_size': 0.0, 'start_index': 0.0, 'cat_path': './/categories/unique.item_id_purchase_id.parquet', 'embedding_sizes': {'cardinality': 23619.0, 'dimension': 450.0}, 'domain': {'min': 0, 'max': 23619, 'name': 'item_id_purchase_id'}}, 'dtype': dtype('int64'), 'is_list': False, 'is_ragged': False}]"
      ]
     },
     "execution_count": 25,
     "metadata": {},
     "output_type": "execute_result"
    }
   ],
   "source": [
    "schema_model = train.schema.select_by_name(['item_id_last', 'item_id_list_seq', 'purchase_id_first'])\n",
    "schema_model"
   ]
  },
  {
   "cell_type": "code",
   "execution_count": 27,
   "id": "6bd22d5d",
   "metadata": {},
   "outputs": [],
   "source": [
    "schema_model['item_id_list_seq'].properties.update({})\n",
    "\n",
    "schema_model['item_id_list_seq'].properties['embedding_sizes'] = {\n",
    "    'cardinality': float(23619), \n",
    "    'dimension': float(256)\n",
    "}\n",
    "\n",
    "schema_model['item_id_list_seq'].properties['domain'] = {\n",
    "    'min': 0, \n",
    "    'max': 23619\n",
    "}\n",
    "\n",
    "schema_model['item_id_last'].properties.update({})\n",
    "\n",
    "schema_model['item_id_last'].properties['embedding_sizes'] = {\n",
    "    'cardinality': float(23619), \n",
    "    'dimension': float(256)\n",
    "}\n",
    "\n",
    "schema_model['item_id_last'].properties['domain'] = {\n",
    "    'min': 0, \n",
    "    'max': 23619\n",
    "}"
   ]
  },
  {
   "cell_type": "markdown",
   "id": "e58a6ef7",
   "metadata": {},
   "source": [
    "### Model\n",
    "InputBlock which takes sequential features, concatenate them and return the sequence of interaction embeddings"
   ]
  },
  {
   "cell_type": "code",
   "execution_count": 29,
   "id": "cff5ef4f",
   "metadata": {},
   "outputs": [],
   "source": [
    "input_block = InputBlock(\n",
    "        schema_model.select_by_name(['item_id_last', 'item_id_list_seq']),\n",
    "        aggregation='concat',\n",
    "#         seq=True,\n",
    "        max_seq_length=20,\n",
    "        embedding_options=mm.EmbeddingOptions(embedding_dim_default=128),\n",
    "#         split_sparse=True,\n",
    ")"
   ]
  },
  {
   "cell_type": "markdown",
   "id": "0f0a1102",
   "metadata": {},
   "source": [
    "MLPBlock to get the sequence of hidden representation"
   ]
  },
  {
   "cell_type": "code",
   "execution_count": 30,
   "id": "72a3a7f5",
   "metadata": {},
   "outputs": [],
   "source": [
    "mlp_block = mm.MLPBlock(\n",
    "                [64, 128],\n",
    "                activation='relu',\n",
    "                no_activation_last_layer=True,\n",
    "                dropout=DROPOUT,\n",
    "            )"
   ]
  },
  {
   "cell_type": "markdown",
   "id": "ecf44979",
   "metadata": {},
   "source": [
    "Multi-Classiffication Prediction head which has\n",
    "- Layer Normalization\n",
    "- Weight Tying\n",
    "- Labels as One-hot encoded vectors, used for label smoothing \n",
    "- Temperature Scaling to reduce the overconfidence of the model"
   ]
  },
  {
   "cell_type": "code",
   "execution_count": 31,
   "id": "d9714bfa",
   "metadata": {},
   "outputs": [],
   "source": [
    "prediction_call = L2Norm().connect(\n",
    "    ItemsPredictionWeightTying(schema_model), \n",
    "    mm.LabelToOneHot(), \n",
    "    LogitsTemperatureScaler(temperature=TEMPERATURE_SCALING)\n",
    ")\n",
    "\n",
    "prediction_task = mm.MultiClassClassificationTask(\n",
    "    target_name=\"purchase_id_first\",\n",
    "    pre=prediction_call,\n",
    ")"
   ]
  },
  {
   "cell_type": "markdown",
   "id": "829206d8",
   "metadata": {},
   "source": [
    "Now, we connect all the blocks togther to build a model"
   ]
  },
  {
   "cell_type": "code",
   "execution_count": 32,
   "id": "6dc026f6",
   "metadata": {},
   "outputs": [],
   "source": [
    "# model_mlp = Model(input_block, mlp_block, SequenceAggregator(SequenceAggregation.MEAN), prediction_task)\n",
    "model_mlp = Model(input_block, mlp_block, prediction_task)\n",
    "\n",
    "optimizer = tf.keras.optimizers.Adam(\n",
    "    learning_rate=LEARNING_RATE,\n",
    "    clipnorm=CLIPNORM\n",
    ")\n",
    "\n",
    "# model_mlp.compile(optimizer=optimizer, run_eagerly=False)\n",
    "model_mlp.compile(\n",
    "    optimizer=optimizer,\n",
    "    run_eagerly=True,\n",
    "    loss=tf.keras.losses.CategoricalCrossentropy(from_logits=True, label_smoothing=LABEL_SMOOTHING),\n",
    "    metrics=mm.TopKMetricsAggregator.default_metrics(top_ks=[100])\n",
    ")"
   ]
  },
  {
   "cell_type": "code",
   "execution_count": 33,
   "id": "a27f1181",
   "metadata": {},
   "outputs": [
    {
     "data": {
      "text/plain": [
       "{'item_id_last': Embedding(), 'item_id_list_seq': Embedding()}"
      ]
     },
     "execution_count": 33,
     "metadata": {},
     "output_type": "execute_result"
    }
   ],
   "source": [
    "model_mlp.layers[0].parallel_layers['categorical'].embedding_tables"
   ]
  },
  {
   "cell_type": "markdown",
   "id": "f061cf81",
   "metadata": {},
   "source": [
    "### Model Training"
   ]
  },
  {
   "cell_type": "code",
   "execution_count": 34,
   "id": "6de3a5d6",
   "metadata": {},
   "outputs": [
    {
     "name": "stdout",
     "output_type": "stream",
     "text": [
      "Epoch 1/5\n",
      "1799/1799 [==============================] - 200s 109ms/step - loss: 7.6842 - recall_at_100: 0.3673 - mrr_at_100: 0.1779 - ndcg_at_100: 0.2133 - map_at_100: 0.1779 - precision_at_100: 0.0037 - regularization_loss: 0.0000e+00 - val_loss: 7.5532 - val_recall_at_100: 0.5067 - val_mrr_at_100: 0.2248 - val_ndcg_at_100: 0.2796 - val_map_at_100: 0.2248 - val_precision_at_100: 0.0051 - val_regularization_loss: 0.0000e+00\n",
      "Epoch 2/5\n",
      "1799/1799 [==============================] - 188s 104ms/step - loss: 7.3664 - recall_at_100: 0.4732 - mrr_at_100: 0.2045 - ndcg_at_100: 0.2566 - map_at_100: 0.2045 - precision_at_100: 0.0047 - regularization_loss: 0.0000e+00 - val_loss: 7.4584 - val_recall_at_100: 0.5341 - val_mrr_at_100: 0.2347 - val_ndcg_at_100: 0.2931 - val_map_at_100: 0.2347 - val_precision_at_100: 0.0053 - val_regularization_loss: 0.0000e+00\n",
      "Epoch 3/5\n",
      "1799/1799 [==============================] - 190s 105ms/step - loss: 7.2171 - recall_at_100: 0.5255 - mrr_at_100: 0.2172 - ndcg_at_100: 0.2775 - map_at_100: 0.2172 - precision_at_100: 0.0053 - regularization_loss: 0.0000e+00 - val_loss: 7.4500 - val_recall_at_100: 0.5371 - val_mrr_at_100: 0.2358 - val_ndcg_at_100: 0.2948 - val_map_at_100: 0.2358 - val_precision_at_100: 0.0054 - val_regularization_loss: 0.0000e+00\n",
      "Epoch 4/5\n",
      "1799/1799 [==============================] - 190s 105ms/step - loss: 7.1282 - recall_at_100: 0.5520 - mrr_at_100: 0.2245 - ndcg_at_100: 0.2888 - map_at_100: 0.2245 - precision_at_100: 0.0055 - regularization_loss: 0.0000e+00 - val_loss: 7.4537 - val_recall_at_100: 0.5415 - val_mrr_at_100: 0.2372 - val_ndcg_at_100: 0.2969 - val_map_at_100: 0.2372 - val_precision_at_100: 0.0054 - val_regularization_loss: 0.0000e+00\n",
      "Epoch 5/5\n",
      "1799/1799 [==============================] - 189s 104ms/step - loss: 7.0618 - recall_at_100: 0.5704 - mrr_at_100: 0.2304 - ndcg_at_100: 0.2973 - map_at_100: 0.2304 - precision_at_100: 0.0057 - regularization_loss: 0.0000e+00 - val_loss: 7.4655 - val_recall_at_100: 0.5388 - val_mrr_at_100: 0.2381 - val_ndcg_at_100: 0.2972 - val_map_at_100: 0.2381 - val_precision_at_100: 0.0054 - val_regularization_loss: 0.0000e+00\n",
      "CPU times: user 18min 16s, sys: 2min 17s, total: 20min 33s\n",
      "Wall time: 15min 57s\n"
     ]
    }
   ],
   "source": [
    "%%time\n",
    "history = model_mlp.fit(\n",
    "    train,\n",
    "    validation_data=valid,\n",
    "    batch_size=BATCH_SIZE,\n",
    "    epochs=EPOCHS,\n",
    "    schema=schema_model,\n",
    ")"
   ]
  },
  {
   "cell_type": "markdown",
   "id": "e34567de",
   "metadata": {},
   "source": [
    "### Model Evaluation"
   ]
  },
  {
   "cell_type": "code",
   "execution_count": 35,
   "id": "3dfebfb8",
   "metadata": {},
   "outputs": [
    {
     "name": "stdout",
     "output_type": "stream",
     "text": [
      "78/78 [==============================] - 20s 161ms/step - loss: 7.4655 - recall_at_100: 0.5597 - mrr_at_100: 0.2436 - ndcg_at_100: 0.3057 - map_at_100: 0.2436 - precision_at_100: 0.0056 - regularization_loss: 0.0000e+00\n"
     ]
    },
    {
     "data": {
      "text/plain": [
       "{'loss': 7.465471267700195,\n",
       " 'recall_at_100': 0.5387646555900574,\n",
       " 'mrr_at_100': 0.23805998265743256,\n",
       " 'ndcg_at_100': 0.29719114303588867,\n",
       " 'map_at_100': 0.23805998265743256,\n",
       " 'precision_at_100': 0.005387645214796066,\n",
       " 'regularization_loss': 0.0}"
      ]
     },
     "execution_count": 35,
     "metadata": {},
     "output_type": "execute_result"
    }
   ],
   "source": [
    "model_mlp.evaluate(valid_ds, batch_size=1024, return_dict=True)"
   ]
  },
  {
   "cell_type": "code",
   "execution_count": 36,
   "id": "eda286dd",
   "metadata": {},
   "outputs": [],
   "source": [
    "def generate_recommendations(pred, df_agg, batch_size=1024, n_topk=100):\n",
    "    print('Mask Predictions')\n",
    "    print('Generate Top100 Recommendations')\n",
    "    out_pred = []\n",
    "    out_score = []\n",
    "    for i in range(0, pred.shape[0]//batch_size+1):\n",
    "        batch_start = (i)*batch_size\n",
    "        batch_end = min((i+1)*batch_size, pred.shape[0])\n",
    "        pred_tmp = pred[batch_start:batch_end]\n",
    "        cp_pred = cupy.asarray(pred_tmp)\n",
    "        pred_idx = cupy.argsort(-cp_pred)\n",
    "        pred_idx = cupy.asnumpy(pred_idx)\n",
    "        for j in range(pred_idx.shape[0]):\n",
    "            topk = []\n",
    "            score = []\n",
    "            for k in range(n_topk):\n",
    "                idx = pred_idx[j][k]\n",
    "                topk.append(idx)\n",
    "                score.append(pred_tmp[j][idx])\n",
    "            out_pred.append(topk)\n",
    "            out_score.append(score)\n",
    "    \n",
    "    print('Transform Top100 Recommendations')\n",
    "    metadata = df_agg[['session_id', 'purchase_id_first']].to_pandas().values.tolist()\n",
    "    out = []\n",
    "    for i, ex in enumerate(metadata):\n",
    "        session_id = ex[0]\n",
    "        purchase = ex[1]\n",
    "        for k in range(n_topk):\n",
    "            out.append([session_id, purchase, out_pred[i][k], out_score[i][k]])\n",
    "\n",
    "    df_rec = cudf.DataFrame(out)\n",
    "    df_rec.columns = ['session_id', 'purchased', 'rec', 'score']\n",
    "    return(df_rec)\n",
    "\n",
    "def evaluate(df, add_folds=False):\n",
    "    print('Model evaluation')\n",
    "    df = df.drop_duplicates(['session_id', 'rec'])\n",
    "    df = df.sort_values(['session_id', 'score'], ascending=False)\n",
    "    df['dummy'] = 1\n",
    "    df['rank'] = df[['session_id', 'dummy']].groupby('session_id').cumsum()\n",
    "    df = df[df['rank']<=100]\n",
    "    df.drop('dummy', inplace=True, axis=1)\n",
    "    df['mrr'] = 1/df['rank']\n",
    "    df.loc[df['purchased']!=df['rec'], 'mrr'] = 0\n",
    "    out = {}\n",
    "    mrr = df[df['purchased']==df['rec']]['mrr'].sum()/df['session_id'].drop_duplicates().shape[0]\n",
    "    out['total'] = mrr\n",
    "    return(out)"
   ]
  },
  {
   "cell_type": "code",
   "execution_count": 37,
   "id": "1f819e6b",
   "metadata": {},
   "outputs": [
    {
     "name": "stdout",
     "output_type": "stream",
     "text": [
      "78/78 [==============================] - 5s 59ms/step\n",
      "Mask Predictions\n",
      "Generate Top100 Recommendations\n",
      "Transform Top100 Recommendations\n",
      "Model evaluation\n",
      "MRR:  0.23805997705335835\n",
      "CPU times: user 57.5 s, sys: 14 s, total: 1min 11s\n",
      "Wall time: 1min 6s\n"
     ]
    }
   ],
   "source": [
    "%%time\n",
    "predictions = model_mlp.predict(valid, batch_size=1024, verbose=1)\n",
    "ddf = valid.to_ddf()\n",
    "ddf = ddf[['session_id', 'purchase_id_first']].compute()\n",
    "df_rec = generate_recommendations(predictions, ddf)\n",
    "val_mrr = evaluate(df_rec)['total']\n",
    "print('MRR: ',val_mrr)"
   ]
  },
  {
   "cell_type": "markdown",
   "id": "5efc2707",
   "metadata": {},
   "source": [
    "## Training Bi-LSTM"
   ]
  },
  {
   "cell_type": "code",
   "execution_count": 10,
   "id": "f4cca73f",
   "metadata": {},
   "outputs": [],
   "source": [
    "SEED = 42\n",
    "EPOCHS = 10\n",
    "BATCH_SIZE = 1024 #512\n",
    "LEARNING_RATE = 3e-1\n",
    "CLIPNORM = True\n",
    "DROPOUT= 0.2 #0.01\n",
    "LABEL_SMOOTHING = 0.2\n",
    "TEMPERATURE_SCALING = 2\n",
    "OPTIMIZER_NAME = 'adam'\n",
    "LOSS='CategoricalCrossentropy'\n",
    "\n",
    "BI_LSTM_HIDDEN_DIM = 64\n",
    "tf.keras.utils.set_random_seed(SEED)"
   ]
  },
  {
   "cell_type": "markdown",
   "id": "b8c68cf0",
   "metadata": {},
   "source": [
    "### Model\n",
    "\n",
    "BiLSTM Block: It requires a dictionary input with the sequence of interaction embeddings `input_sequence`"
   ]
  },
  {
   "cell_type": "code",
   "execution_count": 11,
   "id": "2776a20f",
   "metadata": {},
   "outputs": [],
   "source": [
    "class BiLSTM(mm.Block):\n",
    "    def __init__(self, hidden_dim= 64, **kwargs):\n",
    "        self.hidden_dim = hidden_dim\n",
    "        lstm = tf.keras.layers.LSTM(hidden_dim, return_sequences=False, dropout=0.05,\n",
    "                                   kernel_regularizer=regularizers.l2(1e-4))\n",
    "        self.lstm = tf.keras.layers.Bidirectional(lstm)\n",
    "        \n",
    "        super().__init__(**kwargs)\n",
    "        \n",
    "    def call(self, inputs, training=False, **kwargs) -> tf.Tensor:  \n",
    "        interactions = inputs['input_sequence']\n",
    "        sequence_representation = self.lstm(interactions)\n",
    "        return sequence_representation\n",
    "    \n",
    "    def compute_output_shape(self, input_shape):\n",
    "        input_shape = input_shape['input_sequence']\n",
    "        return (input_shape[0], input_shape[1], self.hidden_dim*2)\n",
    "    \n",
    "    \n",
    "bilstm = BiLSTM(hidden_dim=BI_LSTM_HIDDEN_DIM)"
   ]
  },
  {
   "cell_type": "markdown",
   "id": "0bc52940",
   "metadata": {},
   "source": [
    "InputBlock which takes sequential features, concatenate them and return the sequence of interaction embeddings"
   ]
  },
  {
   "cell_type": "code",
   "execution_count": 12,
   "id": "5e965f63",
   "metadata": {},
   "outputs": [
    {
     "data": {
      "text/html": [
       "<div>\n",
       "<style scoped>\n",
       "    .dataframe tbody tr th:only-of-type {\n",
       "        vertical-align: middle;\n",
       "    }\n",
       "\n",
       "    .dataframe tbody tr th {\n",
       "        vertical-align: top;\n",
       "    }\n",
       "\n",
       "    .dataframe thead th {\n",
       "        text-align: right;\n",
       "    }\n",
       "</style>\n",
       "<table border=\"1\" class=\"dataframe\">\n",
       "  <thead>\n",
       "    <tr style=\"text-align: right;\">\n",
       "      <th></th>\n",
       "      <th>name</th>\n",
       "      <th>tags</th>\n",
       "      <th>dtype</th>\n",
       "      <th>is_list</th>\n",
       "      <th>is_ragged</th>\n",
       "      <th>properties.num_buckets</th>\n",
       "      <th>properties.freq_threshold</th>\n",
       "      <th>properties.max_size</th>\n",
       "      <th>properties.start_index</th>\n",
       "      <th>properties.cat_path</th>\n",
       "      <th>properties.embedding_sizes.cardinality</th>\n",
       "      <th>properties.embedding_sizes.dimension</th>\n",
       "      <th>properties.domain.min</th>\n",
       "      <th>properties.domain.max</th>\n",
       "      <th>properties.domain.name</th>\n",
       "    </tr>\n",
       "  </thead>\n",
       "  <tbody>\n",
       "    <tr>\n",
       "      <th>0</th>\n",
       "      <td>item_id_list_seq</td>\n",
       "      <td>(Tags.SEQUENCE, Tags.ITEM, Tags.LIST, Tags.CAT...</td>\n",
       "      <td>int64</td>\n",
       "      <td>True</td>\n",
       "      <td>False</td>\n",
       "      <td>None</td>\n",
       "      <td>0.0</td>\n",
       "      <td>0.0</td>\n",
       "      <td>0.0</td>\n",
       "      <td>.//categories/unique.item_id.parquet</td>\n",
       "      <td>23497.0</td>\n",
       "      <td>449.0</td>\n",
       "      <td>0</td>\n",
       "      <td>23497</td>\n",
       "      <td>item_id</td>\n",
       "    </tr>\n",
       "    <tr>\n",
       "      <th>1</th>\n",
       "      <td>purchase_id_first</td>\n",
       "      <td>(Tags.CATEGORICAL, Tags.TARGET)</td>\n",
       "      <td>int64</td>\n",
       "      <td>False</td>\n",
       "      <td>False</td>\n",
       "      <td>None</td>\n",
       "      <td>0.0</td>\n",
       "      <td>0.0</td>\n",
       "      <td>0.0</td>\n",
       "      <td>.//categories/unique.purchase_id.parquet</td>\n",
       "      <td>18908.0</td>\n",
       "      <td>397.0</td>\n",
       "      <td>0</td>\n",
       "      <td>18908</td>\n",
       "      <td>purchase_id</td>\n",
       "    </tr>\n",
       "  </tbody>\n",
       "</table>\n",
       "</div>"
      ],
      "text/plain": [
       "[{'name': 'item_id_list_seq', 'tags': {<Tags.SEQUENCE: 'sequence'>, <Tags.ITEM: 'item'>, <Tags.LIST: 'list'>, <Tags.CATEGORICAL: 'categorical'>, <Tags.ITEM_ID: 'item_id'>}, 'properties': {'num_buckets': None, 'freq_threshold': 0.0, 'max_size': 0.0, 'start_index': 0.0, 'cat_path': './/categories/unique.item_id.parquet', 'embedding_sizes': {'cardinality': 23497.0, 'dimension': 449.0}, 'domain': {'min': 0, 'max': 23497, 'name': 'item_id'}}, 'dtype': dtype('int64'), 'is_list': True, 'is_ragged': False}, {'name': 'purchase_id_first', 'tags': {<Tags.CATEGORICAL: 'categorical'>, <Tags.TARGET: 'target'>}, 'properties': {'num_buckets': None, 'freq_threshold': 0.0, 'max_size': 0.0, 'start_index': 0.0, 'cat_path': './/categories/unique.purchase_id.parquet', 'embedding_sizes': {'cardinality': 18908.0, 'dimension': 397.0}, 'domain': {'min': 0, 'max': 18908, 'name': 'purchase_id'}}, 'dtype': dtype('int64'), 'is_list': False, 'is_ragged': False}]"
      ]
     },
     "execution_count": 12,
     "metadata": {},
     "output_type": "execute_result"
    }
   ],
   "source": [
    "schema_model = train.schema.select_by_name(['item_id_list_seq', 'purchase_id_first'])\n",
    "schema_model"
   ]
  },
  {
   "cell_type": "code",
   "execution_count": 13,
   "id": "40fb07a4",
   "metadata": {},
   "outputs": [],
   "source": [
    "inputs = InputBlock(\n",
    "        schema_model,\n",
    "        aggregation='concat',\n",
    "        seq=True,\n",
    "        max_seq_length=20,\n",
    "        embedding_options=mm.EmbeddingOptions(\n",
    "            embedding_dim_default=128,\n",
    "            infer_embedding_sizes=True,\n",
    "            infer_embedding_sizes_multiplier=2,\n",
    "            infer_embeddings_ensure_dim_multiple_of_8=True\n",
    "        ),\n",
    "        split_sparse=True,\n",
    ")"
   ]
  },
  {
   "cell_type": "code",
   "execution_count": 14,
   "id": "62284da4",
   "metadata": {},
   "outputs": [],
   "source": [
    "dense_block = mm.ParallelBlock({'input_sequence': inputs}).connect(bilstm)"
   ]
  },
  {
   "cell_type": "markdown",
   "id": "b454a716",
   "metadata": {},
   "source": [
    "MLPBlock to get the sequence of hidden representation"
   ]
  },
  {
   "cell_type": "code",
   "execution_count": 15,
   "id": "8075fd8a",
   "metadata": {},
   "outputs": [],
   "source": [
    "mlp_block = mm.MLPBlock(\n",
    "                [64, 32],\n",
    "                activation='relu',\n",
    "                no_activation_last_layer=True,\n",
    "                dropout=DROPOUT,\n",
    "            )"
   ]
  },
  {
   "cell_type": "markdown",
   "id": "65ab9c03",
   "metadata": {},
   "source": [
    "Multi-Classiffication Prediction head which has\n",
    "- Layer Normalization\n",
    "- Weight Tying\n",
    "- Labels as One-hot encoded vectors, used for label smoothing \n",
    "- Temperature Scaling to reduce the overconfidence of the model"
   ]
  },
  {
   "cell_type": "code",
   "execution_count": 16,
   "id": "f08041c5",
   "metadata": {},
   "outputs": [],
   "source": [
    "prediction_call = L2Norm().connect(\n",
    "    ItemsPredictionWeightTying(schema_model), \n",
    "    mm.LabelToOneHot(), \n",
    "    LogitsTemperatureScaler(temperature=TEMPERATURE_SCALING)\n",
    ")\n",
    "\n",
    "prediction_task = mm.MultiClassClassificationTask(\n",
    "    target_name=\"purchase_id_first\",\n",
    "    pre=prediction_call,\n",
    ")"
   ]
  },
  {
   "cell_type": "markdown",
   "id": "3fa30944",
   "metadata": {},
   "source": [
    "Now, we connect all the blocks togther to build a model"
   ]
  },
  {
   "cell_type": "code",
   "execution_count": 17,
   "id": "4cc30a04",
   "metadata": {},
   "outputs": [
    {
     "name": "stderr",
     "output_type": "stream",
     "text": [
      "2022-08-08 22:46:09.666455: W tensorflow/python/util/util.cc:368] Sets are not currently considered sequences, but this may change in the future, so consider avoiding using them.\n"
     ]
    }
   ],
   "source": [
    "model_bi_lstm = Model(dense_block, mlp_block, prediction_task)\n",
    "\n",
    "optimizer = tf.keras.optimizers.Adam(\n",
    "    learning_rate=LEARNING_RATE,\n",
    "    clipnorm=CLIPNORM\n",
    ")\n",
    "\n",
    "model_bi_lstm.compile(\n",
    "    optimizer=optimizer,\n",
    "    run_eagerly=True,\n",
    "    loss=tf.keras.losses.CategoricalCrossentropy(from_logits=True, label_smoothing=LABEL_SMOOTHING),\n",
    "    metrics=mm.TopKMetricsAggregator.default_metrics(top_ks=[100])\n",
    ")"
   ]
  },
  {
   "cell_type": "markdown",
   "id": "0ea492dc",
   "metadata": {},
   "source": [
    "### Model Training"
   ]
  },
  {
   "cell_type": "code",
   "execution_count": 19,
   "id": "f746c2e5",
   "metadata": {},
   "outputs": [
    {
     "name": "stderr",
     "output_type": "stream",
     "text": [
      "2022-08-08 22:46:26.286843: I tensorflow/stream_executor/cuda/cuda_dnn.cc:379] Loaded cuDNN version 8400\n",
      "\u001b[34m\u001b[1mwandb\u001b[0m: \u001b[33mWARNING\u001b[0m Unable to compute FLOPs for this model.\n"
     ]
    },
    {
     "name": "stdout",
     "output_type": "stream",
     "text": [
      "Epoch 1/10\n",
      "900/900 [==============================] - 140s 150ms/step - loss: 17.6281 - recall_at_100: 0.1426 - mrr_at_100: 0.0181 - ndcg_at_100: 0.0399 - map_at_100: 0.0181 - precision_at_100: 0.0014 - regularization_loss: 8.6982 - val_loss: 19.8320 - val_recall_at_100: 0.1834 - val_mrr_at_100: 0.0211 - val_ndcg_at_100: 0.0497 - val_map_at_100: 0.0211 - val_precision_at_100: 0.0018 - val_regularization_loss: 10.7310\n",
      "Epoch 2/10\n",
      "900/900 [==============================] - 132s 146ms/step - loss: 24.2999 - recall_at_100: 0.1395 - mrr_at_100: 0.0181 - ndcg_at_100: 0.0393 - map_at_100: 0.0181 - precision_at_100: 0.0014 - regularization_loss: 15.3040 - val_loss: 22.9900 - val_recall_at_100: 0.1896 - val_mrr_at_100: 0.0189 - val_ndcg_at_100: 0.0490 - val_map_at_100: 0.0189 - val_precision_at_100: 0.0019 - val_regularization_loss: 13.9342\n",
      "Epoch 3/10\n",
      "900/900 [==============================] - 129s 142ms/step - loss: 24.1477 - recall_at_100: 0.1399 - mrr_at_100: 0.0177 - ndcg_at_100: 0.0391 - map_at_100: 0.0177 - precision_at_100: 0.0014 - regularization_loss: 15.1614 - val_loss: 23.6164 - val_recall_at_100: 0.1791 - val_mrr_at_100: 0.0223 - val_ndcg_at_100: 0.0498 - val_map_at_100: 0.0223 - val_precision_at_100: 0.0018 - val_regularization_loss: 14.5636\n",
      "Epoch 4/10\n",
      "900/900 [==============================] - 132s 146ms/step - loss: 23.9154 - recall_at_100: 0.1396 - mrr_at_100: 0.0181 - ndcg_at_100: 0.0394 - map_at_100: 0.0181 - precision_at_100: 0.0014 - regularization_loss: 14.9370 - val_loss: 22.7162 - val_recall_at_100: 0.1815 - val_mrr_at_100: 0.0214 - val_ndcg_at_100: 0.0499 - val_map_at_100: 0.0214 - val_precision_at_100: 0.0018 - val_regularization_loss: 13.6589\n",
      "Epoch 5/10\n",
      "900/900 [==============================] - 129s 143ms/step - loss: 23.8819 - recall_at_100: 0.1407 - mrr_at_100: 0.0181 - ndcg_at_100: 0.0396 - map_at_100: 0.0181 - precision_at_100: 0.0014 - regularization_loss: 14.9125 - val_loss: 23.4413 - val_recall_at_100: 0.1855 - val_mrr_at_100: 0.0222 - val_ndcg_at_100: 0.0511 - val_map_at_100: 0.0222 - val_precision_at_100: 0.0019 - val_regularization_loss: 14.4065\n",
      "Epoch 7/10\n",
      "900/900 [==============================] - 128s 142ms/step - loss: 23.8844 - recall_at_100: 0.1408 - mrr_at_100: 0.0176 - ndcg_at_100: 0.0392 - map_at_100: 0.0176 - precision_at_100: 0.0014 - regularization_loss: 14.9171 - val_loss: 23.4047 - val_recall_at_100: 0.1897 - val_mrr_at_100: 0.0214 - val_ndcg_at_100: 0.0510 - val_map_at_100: 0.0214 - val_precision_at_100: 0.0019 - val_regularization_loss: 14.3693\n",
      "Epoch 8/10\n",
      "900/900 [==============================] - 128s 142ms/step - loss: 24.1216 - recall_at_100: 0.1408 - mrr_at_100: 0.0180 - ndcg_at_100: 0.0396 - map_at_100: 0.0180 - precision_at_100: 0.0014 - regularization_loss: 15.1564 - val_loss: 24.1976 - val_recall_at_100: 0.1751 - val_mrr_at_100: 0.0209 - val_ndcg_at_100: 0.0480 - val_map_at_100: 0.0209 - val_precision_at_100: 0.0018 - val_regularization_loss: 15.1422\n",
      "Epoch 9/10\n",
      "349/900 [==========>...................] - ETA: 1:13 - loss: 24.5993 - recall_at_100: 0.1285 - mrr_at_100: 0.0173 - ndcg_at_100: 0.0367 - map_at_100: 0.0173 - precision_at_100: 0.0013 - regularization_loss: 15.4641"
     ]
    },
    {
     "name": "stderr",
     "output_type": "stream",
     "text": [
      "IOPub data rate exceeded.\n",
      "The notebook server will temporarily stop sending output\n",
      "to the client in order to avoid crashing it.\n",
      "To change this limit, set the config variable\n",
      "`--NotebookApp.iopub_data_rate_limit`.\n",
      "\n",
      "Current values:\n",
      "NotebookApp.iopub_data_rate_limit=1000000.0 (bytes/sec)\n",
      "NotebookApp.rate_limit_window=3.0 (secs)\n",
      "\n"
     ]
    }
   ],
   "source": [
    "%%time\n",
    "history = model_bi_lstm.fit(\n",
    "    train,\n",
    "    validation_data=valid,\n",
    "    batch_size=BATCH_SIZE,\n",
    "    epochs=EPOCHS,\n",
    "    schema=schema_model,\n",
    "    callbacks=[WandbCallback(save_model=False)],\n",
    ")"
   ]
  },
  {
   "cell_type": "markdown",
   "id": "07bcbd65",
   "metadata": {},
   "source": [
    "### Model Evaluation"
   ]
  },
  {
   "cell_type": "code",
   "execution_count": 20,
   "id": "a5942a4a",
   "metadata": {},
   "outputs": [
    {
     "name": "stdout",
     "output_type": "stream",
     "text": [
      "78/78 [==============================] - 5s 64ms/step\n",
      "Mask Predictions\n",
      "Generate Top100 Recommendations\n",
      "Transform Top100 Recommendations\n",
      "Model evaluation\n",
      "MRR:  0.02055274926770559\n",
      "CPU times: user 55.2 s, sys: 12.4 s, total: 1min 7s\n",
      "Wall time: 1min 5s\n"
     ]
    }
   ],
   "source": [
    "%%time\n",
    "predictions = model_bi_lstm.predict(valid, batch_size=1024, verbose=1)\n",
    "ddf = valid.to_ddf()\n",
    "ddf = ddf[['session_id', 'purchase_id_first']].compute()\n",
    "df_rec = generate_recommendations(predictions, ddf)\n",
    "val_mrr = evaluate(df_rec)['total']\n",
    "print('MRR: ',val_mrr)"
   ]
  },
  {
   "cell_type": "code",
   "execution_count": null,
   "id": "c6afe490",
   "metadata": {},
   "outputs": [],
   "source": []
  }
 ],
 "metadata": {
  "kernelspec": {
   "display_name": "Python 3 (ipykernel)",
   "language": "python",
   "name": "python3"
  },
  "language_info": {
   "codemirror_mode": {
    "name": "ipython",
    "version": 3
   },
   "file_extension": ".py",
   "mimetype": "text/x-python",
   "name": "python",
   "nbconvert_exporter": "python",
   "pygments_lexer": "ipython3",
   "version": "3.8.10"
  }
 },
 "nbformat": 4,
 "nbformat_minor": 5
}
